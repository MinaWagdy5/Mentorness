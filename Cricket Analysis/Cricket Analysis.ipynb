{
 "cells": [
  {
   "cell_type": "markdown",
   "metadata": {},
   "source": [
    "## **Importing Libraries**"
   ]
  },
  {
   "cell_type": "code",
   "execution_count": 1,
   "metadata": {},
   "outputs": [],
   "source": [
    "import numpy as np\n",
    "import pandas as pd\n",
    "import matplotlib.pyplot as plt\n",
    "import seaborn as sns\n",
    "import plotly.express as px"
   ]
  },
  {
   "cell_type": "markdown",
   "metadata": {},
   "source": [
    "## **Read Data**"
   ]
  },
  {
   "cell_type": "code",
   "execution_count": 2,
   "metadata": {
    "metadata": {}
   },
   "outputs": [
    {
     "data": {
      "text/html": [
       "<div>\n",
       "<style scoped>\n",
       "    .dataframe tbody tr th:only-of-type {\n",
       "        vertical-align: middle;\n",
       "    }\n",
       "\n",
       "    .dataframe tbody tr th {\n",
       "        vertical-align: top;\n",
       "    }\n",
       "\n",
       "    .dataframe thead th {\n",
       "        text-align: right;\n",
       "    }\n",
       "</style>\n",
       "<table border=\"1\" class=\"dataframe\">\n",
       "  <thead>\n",
       "    <tr style=\"text-align: right;\">\n",
       "      <th></th>\n",
       "      <th>comment_id</th>\n",
       "      <th>match_id</th>\n",
       "      <th>match_name</th>\n",
       "      <th>home_team</th>\n",
       "      <th>away_team</th>\n",
       "      <th>current_innings</th>\n",
       "      <th>innings_id</th>\n",
       "      <th>over</th>\n",
       "      <th>ball</th>\n",
       "      <th>runs</th>\n",
       "      <th>shortText</th>\n",
       "      <th>isBoundary</th>\n",
       "      <th>isWide</th>\n",
       "      <th>isNoball</th>\n",
       "      <th>batsman1_id</th>\n",
       "      <th>batsman1_name</th>\n",
       "      <th>batsman1_runs</th>\n",
       "      <th>batsman1_balls</th>\n",
       "      <th>bowler1_id</th>\n",
       "      <th>bowler1_name</th>\n",
       "      <th>bowler1_overs</th>\n",
       "      <th>bowler1_maidens</th>\n",
       "      <th>bowler1_runs</th>\n",
       "      <th>bowler1_wkts</th>\n",
       "      <th>batsman2_id</th>\n",
       "      <th>batsman2_name</th>\n",
       "      <th>batsman2_runs</th>\n",
       "      <th>batsman2_balls</th>\n",
       "      <th>bowler2_id</th>\n",
       "      <th>bowler2_name</th>\n",
       "      <th>bowler2_overs</th>\n",
       "      <th>bowler2_maidens</th>\n",
       "      <th>bowler2_runs</th>\n",
       "      <th>bowler2_wkts</th>\n",
       "      <th>wicket_id</th>\n",
       "      <th>wkt_batsman_name</th>\n",
       "      <th>wkt_bowler_name</th>\n",
       "      <th>wkt_batsman_runs</th>\n",
       "      <th>wkt_batsman_balls</th>\n",
       "      <th>wkt_text</th>\n",
       "      <th>isRetiredHurt</th>\n",
       "      <th>text</th>\n",
       "      <th>preText</th>\n",
       "      <th>postText</th>\n",
       "    </tr>\n",
       "  </thead>\n",
       "  <tbody>\n",
       "    <tr>\n",
       "      <th>0</th>\n",
       "      <td>130</td>\n",
       "      <td>1298179</td>\n",
       "      <td>ENG v PAK</td>\n",
       "      <td>PAK</td>\n",
       "      <td>ENG</td>\n",
       "      <td>PAK</td>\n",
       "      <td>1</td>\n",
       "      <td>1</td>\n",
       "      <td>1</td>\n",
       "      <td>0</td>\n",
       "      <td>Stokes to Mohammad Rizwan, no run</td>\n",
       "      <td>False</td>\n",
       "      <td>False</td>\n",
       "      <td>False</td>\n",
       "      <td>323389</td>\n",
       "      <td>Mohammad Rizwan</td>\n",
       "      <td>0</td>\n",
       "      <td>2</td>\n",
       "      <td>311158</td>\n",
       "      <td>Ben Stokes</td>\n",
       "      <td>0.1</td>\n",
       "      <td>0</td>\n",
       "      <td>2</td>\n",
       "      <td>0</td>\n",
       "      <td>348144</td>\n",
       "      <td>Babar Azam</td>\n",
       "      <td>0</td>\n",
       "      <td>0</td>\n",
       "      <td>NaN</td>\n",
       "      <td>NaN</td>\n",
       "      <td>NaN</td>\n",
       "      <td>NaN</td>\n",
       "      <td>NaN</td>\n",
       "      <td>NaN</td>\n",
       "      <td>NaN</td>\n",
       "      <td>NaN</td>\n",
       "      <td>NaN</td>\n",
       "      <td>NaN</td>\n",
       "      <td>NaN</td>\n",
       "      <td>NaN</td>\n",
       "      <td>False</td>\n",
       "      <td>short again, and he gets some extra bounce on ...</td>\n",
       "      <td>NaN</td>\n",
       "      <td>NaN</td>\n",
       "    </tr>\n",
       "    <tr>\n",
       "      <th>1</th>\n",
       "      <td>120</td>\n",
       "      <td>1298179</td>\n",
       "      <td>ENG v PAK</td>\n",
       "      <td>PAK</td>\n",
       "      <td>ENG</td>\n",
       "      <td>PAK</td>\n",
       "      <td>1</td>\n",
       "      <td>1</td>\n",
       "      <td>1</td>\n",
       "      <td>1</td>\n",
       "      <td>Stokes to Mohammad Rizwan, 1 wide</td>\n",
       "      <td>False</td>\n",
       "      <td>True</td>\n",
       "      <td>False</td>\n",
       "      <td>323389</td>\n",
       "      <td>Mohammad Rizwan</td>\n",
       "      <td>0</td>\n",
       "      <td>1</td>\n",
       "      <td>311158</td>\n",
       "      <td>Ben Stokes</td>\n",
       "      <td>0.0</td>\n",
       "      <td>0</td>\n",
       "      <td>2</td>\n",
       "      <td>0</td>\n",
       "      <td>348144</td>\n",
       "      <td>Babar Azam</td>\n",
       "      <td>0</td>\n",
       "      <td>0</td>\n",
       "      <td>NaN</td>\n",
       "      <td>NaN</td>\n",
       "      <td>NaN</td>\n",
       "      <td>NaN</td>\n",
       "      <td>NaN</td>\n",
       "      <td>NaN</td>\n",
       "      <td>NaN</td>\n",
       "      <td>NaN</td>\n",
       "      <td>NaN</td>\n",
       "      <td>NaN</td>\n",
       "      <td>NaN</td>\n",
       "      <td>NaN</td>\n",
       "      <td>False</td>\n",
       "      <td>and he'll have to bowl another free-hit after ...</td>\n",
       "      <td>&lt;p&gt;Free-hit&lt;/p&gt;</td>\n",
       "      <td>NaN</td>\n",
       "    </tr>\n",
       "    <tr>\n",
       "      <th>2</th>\n",
       "      <td>110</td>\n",
       "      <td>1298179</td>\n",
       "      <td>ENG v PAK</td>\n",
       "      <td>PAK</td>\n",
       "      <td>ENG</td>\n",
       "      <td>PAK</td>\n",
       "      <td>1</td>\n",
       "      <td>1</td>\n",
       "      <td>1</td>\n",
       "      <td>1</td>\n",
       "      <td>Stokes to Mohammad Rizwan, 1 no ball</td>\n",
       "      <td>False</td>\n",
       "      <td>False</td>\n",
       "      <td>True</td>\n",
       "      <td>323389</td>\n",
       "      <td>Mohammad Rizwan</td>\n",
       "      <td>0</td>\n",
       "      <td>1</td>\n",
       "      <td>311158</td>\n",
       "      <td>Ben Stokes</td>\n",
       "      <td>0.0</td>\n",
       "      <td>0</td>\n",
       "      <td>1</td>\n",
       "      <td>0</td>\n",
       "      <td>348144</td>\n",
       "      <td>Babar Azam</td>\n",
       "      <td>0</td>\n",
       "      <td>0</td>\n",
       "      <td>NaN</td>\n",
       "      <td>NaN</td>\n",
       "      <td>NaN</td>\n",
       "      <td>NaN</td>\n",
       "      <td>NaN</td>\n",
       "      <td>NaN</td>\n",
       "      <td>NaN</td>\n",
       "      <td>NaN</td>\n",
       "      <td>NaN</td>\n",
       "      <td>NaN</td>\n",
       "      <td>NaN</td>\n",
       "      <td>NaN</td>\n",
       "      <td>False</td>\n",
       "      <td>full, and a hint of shape away from off stump....</td>\n",
       "      <td>&lt;p&gt;&lt;b&gt;6.58pm&lt;/b&gt; Thanks, Andrew M. The MCG is ...</td>\n",
       "      <td>NaN</td>\n",
       "    </tr>\n",
       "    <tr>\n",
       "      <th>3</th>\n",
       "      <td>140</td>\n",
       "      <td>1298179</td>\n",
       "      <td>ENG v PAK</td>\n",
       "      <td>PAK</td>\n",
       "      <td>ENG</td>\n",
       "      <td>PAK</td>\n",
       "      <td>1</td>\n",
       "      <td>1</td>\n",
       "      <td>2</td>\n",
       "      <td>2</td>\n",
       "      <td>Stokes to Mohammad Rizwan, 2 runs</td>\n",
       "      <td>False</td>\n",
       "      <td>False</td>\n",
       "      <td>False</td>\n",
       "      <td>323389</td>\n",
       "      <td>Mohammad Rizwan</td>\n",
       "      <td>2</td>\n",
       "      <td>3</td>\n",
       "      <td>311158</td>\n",
       "      <td>Ben Stokes</td>\n",
       "      <td>0.2</td>\n",
       "      <td>0</td>\n",
       "      <td>4</td>\n",
       "      <td>0</td>\n",
       "      <td>348144</td>\n",
       "      <td>Babar Azam</td>\n",
       "      <td>0</td>\n",
       "      <td>0</td>\n",
       "      <td>NaN</td>\n",
       "      <td>NaN</td>\n",
       "      <td>NaN</td>\n",
       "      <td>NaN</td>\n",
       "      <td>NaN</td>\n",
       "      <td>NaN</td>\n",
       "      <td>NaN</td>\n",
       "      <td>NaN</td>\n",
       "      <td>NaN</td>\n",
       "      <td>NaN</td>\n",
       "      <td>NaN</td>\n",
       "      <td>NaN</td>\n",
       "      <td>False</td>\n",
       "      <td>shortish, angling down leg, gloves a pull down...</td>\n",
       "      <td>NaN</td>\n",
       "      <td>NaN</td>\n",
       "    </tr>\n",
       "    <tr>\n",
       "      <th>4</th>\n",
       "      <td>150</td>\n",
       "      <td>1298179</td>\n",
       "      <td>ENG v PAK</td>\n",
       "      <td>PAK</td>\n",
       "      <td>ENG</td>\n",
       "      <td>PAK</td>\n",
       "      <td>1</td>\n",
       "      <td>1</td>\n",
       "      <td>3</td>\n",
       "      <td>0</td>\n",
       "      <td>Stokes to Mohammad Rizwan, no run</td>\n",
       "      <td>False</td>\n",
       "      <td>False</td>\n",
       "      <td>False</td>\n",
       "      <td>323389</td>\n",
       "      <td>Mohammad Rizwan</td>\n",
       "      <td>2</td>\n",
       "      <td>4</td>\n",
       "      <td>311158</td>\n",
       "      <td>Ben Stokes</td>\n",
       "      <td>0.3</td>\n",
       "      <td>0</td>\n",
       "      <td>4</td>\n",
       "      <td>0</td>\n",
       "      <td>348144</td>\n",
       "      <td>Babar Azam</td>\n",
       "      <td>0</td>\n",
       "      <td>0</td>\n",
       "      <td>NaN</td>\n",
       "      <td>NaN</td>\n",
       "      <td>NaN</td>\n",
       "      <td>NaN</td>\n",
       "      <td>NaN</td>\n",
       "      <td>NaN</td>\n",
       "      <td>NaN</td>\n",
       "      <td>NaN</td>\n",
       "      <td>NaN</td>\n",
       "      <td>NaN</td>\n",
       "      <td>NaN</td>\n",
       "      <td>NaN</td>\n",
       "      <td>False</td>\n",
       "      <td>length ball close to off stump, straightens a ...</td>\n",
       "      <td>NaN</td>\n",
       "      <td>NaN</td>\n",
       "    </tr>\n",
       "  </tbody>\n",
       "</table>\n",
       "</div>"
      ],
      "text/plain": [
       "   comment_id  match_id match_name home_team away_team current_innings  \\\n",
       "0         130   1298179  ENG v PAK       PAK       ENG             PAK   \n",
       "1         120   1298179  ENG v PAK       PAK       ENG             PAK   \n",
       "2         110   1298179  ENG v PAK       PAK       ENG             PAK   \n",
       "3         140   1298179  ENG v PAK       PAK       ENG             PAK   \n",
       "4         150   1298179  ENG v PAK       PAK       ENG             PAK   \n",
       "\n",
       "   innings_id  over  ball  runs                             shortText  \\\n",
       "0           1     1     1     0     Stokes to Mohammad Rizwan, no run   \n",
       "1           1     1     1     1     Stokes to Mohammad Rizwan, 1 wide   \n",
       "2           1     1     1     1  Stokes to Mohammad Rizwan, 1 no ball   \n",
       "3           1     1     2     2     Stokes to Mohammad Rizwan, 2 runs   \n",
       "4           1     1     3     0     Stokes to Mohammad Rizwan, no run   \n",
       "\n",
       "   isBoundary  isWide  isNoball  batsman1_id    batsman1_name  batsman1_runs  \\\n",
       "0       False   False     False       323389  Mohammad Rizwan              0   \n",
       "1       False    True     False       323389  Mohammad Rizwan              0   \n",
       "2       False   False      True       323389  Mohammad Rizwan              0   \n",
       "3       False   False     False       323389  Mohammad Rizwan              2   \n",
       "4       False   False     False       323389  Mohammad Rizwan              2   \n",
       "\n",
       "   batsman1_balls  bowler1_id bowler1_name  bowler1_overs  bowler1_maidens  \\\n",
       "0               2      311158   Ben Stokes            0.1                0   \n",
       "1               1      311158   Ben Stokes            0.0                0   \n",
       "2               1      311158   Ben Stokes            0.0                0   \n",
       "3               3      311158   Ben Stokes            0.2                0   \n",
       "4               4      311158   Ben Stokes            0.3                0   \n",
       "\n",
       "   bowler1_runs  bowler1_wkts  batsman2_id batsman2_name  batsman2_runs  \\\n",
       "0             2             0       348144    Babar Azam              0   \n",
       "1             2             0       348144    Babar Azam              0   \n",
       "2             1             0       348144    Babar Azam              0   \n",
       "3             4             0       348144    Babar Azam              0   \n",
       "4             4             0       348144    Babar Azam              0   \n",
       "\n",
       "   batsman2_balls  bowler2_id bowler2_name  bowler2_overs  bowler2_maidens  \\\n",
       "0               0         NaN          NaN            NaN              NaN   \n",
       "1               0         NaN          NaN            NaN              NaN   \n",
       "2               0         NaN          NaN            NaN              NaN   \n",
       "3               0         NaN          NaN            NaN              NaN   \n",
       "4               0         NaN          NaN            NaN              NaN   \n",
       "\n",
       "   bowler2_runs  bowler2_wkts  wicket_id wkt_batsman_name wkt_bowler_name  \\\n",
       "0           NaN           NaN        NaN              NaN             NaN   \n",
       "1           NaN           NaN        NaN              NaN             NaN   \n",
       "2           NaN           NaN        NaN              NaN             NaN   \n",
       "3           NaN           NaN        NaN              NaN             NaN   \n",
       "4           NaN           NaN        NaN              NaN             NaN   \n",
       "\n",
       "   wkt_batsman_runs  wkt_batsman_balls wkt_text  isRetiredHurt  \\\n",
       "0               NaN                NaN      NaN          False   \n",
       "1               NaN                NaN      NaN          False   \n",
       "2               NaN                NaN      NaN          False   \n",
       "3               NaN                NaN      NaN          False   \n",
       "4               NaN                NaN      NaN          False   \n",
       "\n",
       "                                                text  \\\n",
       "0  short again, and he gets some extra bounce on ...   \n",
       "1  and he'll have to bowl another free-hit after ...   \n",
       "2  full, and a hint of shape away from off stump....   \n",
       "3  shortish, angling down leg, gloves a pull down...   \n",
       "4  length ball close to off stump, straightens a ...   \n",
       "\n",
       "                                             preText postText  \n",
       "0                                                NaN      NaN  \n",
       "1                                    <p>Free-hit</p>      NaN  \n",
       "2  <p><b>6.58pm</b> Thanks, Andrew M. The MCG is ...      NaN  \n",
       "3                                                NaN      NaN  \n",
       "4                                                NaN      NaN  "
      ]
     },
     "execution_count": 2,
     "metadata": {},
     "output_type": "execute_result"
    }
   ],
   "source": [
    "pd.set_option('display.max_columns', None)\n",
    "df = pd.read_csv('T-20 World cup 2022.csv')\n",
    "df.head()"
   ]
  },
  {
   "cell_type": "code",
   "execution_count": 3,
   "metadata": {
    "metadata": {}
   },
   "outputs": [
    {
     "name": "stdout",
     "output_type": "stream",
     "text": [
      "<class 'pandas.core.frame.DataFrame'>\n",
      "RangeIndex: 9814 entries, 0 to 9813\n",
      "Data columns (total 44 columns):\n",
      " #   Column             Non-Null Count  Dtype  \n",
      "---  ------             --------------  -----  \n",
      " 0   comment_id         9814 non-null   int64  \n",
      " 1   match_id           9814 non-null   int64  \n",
      " 2   match_name         9814 non-null   object \n",
      " 3   home_team          9814 non-null   object \n",
      " 4   away_team          9814 non-null   object \n",
      " 5   current_innings    9814 non-null   object \n",
      " 6   innings_id         9814 non-null   int64  \n",
      " 7   over               9814 non-null   int64  \n",
      " 8   ball               9814 non-null   int64  \n",
      " 9   runs               9814 non-null   int64  \n",
      " 10  shortText          9814 non-null   object \n",
      " 11  isBoundary         9814 non-null   bool   \n",
      " 12  isWide             9814 non-null   bool   \n",
      " 13  isNoball           9814 non-null   bool   \n",
      " 14  batsman1_id        9814 non-null   int64  \n",
      " 15  batsman1_name      9814 non-null   object \n",
      " 16  batsman1_runs      9814 non-null   int64  \n",
      " 17  batsman1_balls     9814 non-null   int64  \n",
      " 18  bowler1_id         9814 non-null   int64  \n",
      " 19  bowler1_name       9814 non-null   object \n",
      " 20  bowler1_overs      9814 non-null   float64\n",
      " 21  bowler1_maidens    9814 non-null   int64  \n",
      " 22  bowler1_runs       9814 non-null   int64  \n",
      " 23  bowler1_wkts       9814 non-null   int64  \n",
      " 24  batsman2_id        9814 non-null   int64  \n",
      " 25  batsman2_name      9814 non-null   object \n",
      " 26  batsman2_runs      9814 non-null   int64  \n",
      " 27  batsman2_balls     9814 non-null   int64  \n",
      " 28  bowler2_id         9288 non-null   float64\n",
      " 29  bowler2_name       9288 non-null   object \n",
      " 30  bowler2_overs      9288 non-null   float64\n",
      " 31  bowler2_maidens    9288 non-null   float64\n",
      " 32  bowler2_runs       9288 non-null   float64\n",
      " 33  bowler2_wkts       9288 non-null   float64\n",
      " 34  wicket_id          551 non-null    float64\n",
      " 35  wkt_batsman_name   551 non-null    object \n",
      " 36  wkt_bowler_name    551 non-null    object \n",
      " 37  wkt_batsman_runs   551 non-null    float64\n",
      " 38  wkt_batsman_balls  551 non-null    float64\n",
      " 39  wkt_text           551 non-null    object \n",
      " 40  isRetiredHurt      9814 non-null   bool   \n",
      " 41  text               9786 non-null   object \n",
      " 42  preText            1861 non-null   object \n",
      " 43  postText           1088 non-null   object \n",
      "dtypes: bool(4), float64(9), int64(16), object(15)\n",
      "memory usage: 3.0+ MB\n"
     ]
    }
   ],
   "source": [
    "df.info()"
   ]
  },
  {
   "cell_type": "markdown",
   "metadata": {},
   "source": [
    "##### As we see here there are null values"
   ]
  },
  {
   "cell_type": "code",
   "execution_count": 4,
   "metadata": {
    "metadata": {}
   },
   "outputs": [
    {
     "data": {
      "text/html": [
       "<div>\n",
       "<style scoped>\n",
       "    .dataframe tbody tr th:only-of-type {\n",
       "        vertical-align: middle;\n",
       "    }\n",
       "\n",
       "    .dataframe tbody tr th {\n",
       "        vertical-align: top;\n",
       "    }\n",
       "\n",
       "    .dataframe thead th {\n",
       "        text-align: right;\n",
       "    }\n",
       "</style>\n",
       "<table border=\"1\" class=\"dataframe\">\n",
       "  <thead>\n",
       "    <tr style=\"text-align: right;\">\n",
       "      <th></th>\n",
       "      <th>comment_id</th>\n",
       "      <th>match_id</th>\n",
       "      <th>innings_id</th>\n",
       "      <th>over</th>\n",
       "      <th>ball</th>\n",
       "      <th>runs</th>\n",
       "      <th>batsman1_id</th>\n",
       "      <th>batsman1_runs</th>\n",
       "      <th>batsman1_balls</th>\n",
       "      <th>bowler1_id</th>\n",
       "      <th>bowler1_overs</th>\n",
       "      <th>bowler1_maidens</th>\n",
       "      <th>bowler1_runs</th>\n",
       "      <th>bowler1_wkts</th>\n",
       "      <th>batsman2_id</th>\n",
       "      <th>batsman2_runs</th>\n",
       "      <th>batsman2_balls</th>\n",
       "      <th>bowler2_id</th>\n",
       "      <th>bowler2_overs</th>\n",
       "      <th>bowler2_maidens</th>\n",
       "      <th>bowler2_runs</th>\n",
       "      <th>bowler2_wkts</th>\n",
       "      <th>wicket_id</th>\n",
       "      <th>wkt_batsman_runs</th>\n",
       "      <th>wkt_batsman_balls</th>\n",
       "    </tr>\n",
       "  </thead>\n",
       "  <tbody>\n",
       "    <tr>\n",
       "      <th>count</th>\n",
       "      <td>9814.000000</td>\n",
       "      <td>9.814000e+03</td>\n",
       "      <td>9814.000000</td>\n",
       "      <td>9814.000000</td>\n",
       "      <td>9814.000000</td>\n",
       "      <td>9814.000000</td>\n",
       "      <td>9.814000e+03</td>\n",
       "      <td>9814.000000</td>\n",
       "      <td>9814.000000</td>\n",
       "      <td>9.814000e+03</td>\n",
       "      <td>9814.000000</td>\n",
       "      <td>9814.000000</td>\n",
       "      <td>9814.000000</td>\n",
       "      <td>9814.000000</td>\n",
       "      <td>9.814000e+03</td>\n",
       "      <td>9814.000000</td>\n",
       "      <td>9814.000000</td>\n",
       "      <td>9.288000e+03</td>\n",
       "      <td>9288.000000</td>\n",
       "      <td>9288.000000</td>\n",
       "      <td>9288.000000</td>\n",
       "      <td>9288.000000</td>\n",
       "      <td>5.510000e+02</td>\n",
       "      <td>551.000000</td>\n",
       "      <td>551.000000</td>\n",
       "    </tr>\n",
       "    <tr>\n",
       "      <th>mean</th>\n",
       "      <td>85399.661708</td>\n",
       "      <td>1.298157e+06</td>\n",
       "      <td>1.477787</td>\n",
       "      <td>10.082841</td>\n",
       "      <td>3.486856</td>\n",
       "      <td>1.202262</td>\n",
       "      <td>5.377303e+05</td>\n",
       "      <td>15.691971</td>\n",
       "      <td>13.249440</td>\n",
       "      <td>6.226676e+05</td>\n",
       "      <td>1.659038</td>\n",
       "      <td>0.022926</td>\n",
       "      <td>12.341655</td>\n",
       "      <td>0.541268</td>\n",
       "      <td>5.218191e+05</td>\n",
       "      <td>14.978296</td>\n",
       "      <td>12.738537</td>\n",
       "      <td>6.216881e+05</td>\n",
       "      <td>2.172265</td>\n",
       "      <td>0.031654</td>\n",
       "      <td>14.684755</td>\n",
       "      <td>0.641042</td>\n",
       "      <td>5.691470e+05</td>\n",
       "      <td>15.029038</td>\n",
       "      <td>13.800363</td>\n",
       "    </tr>\n",
       "    <tr>\n",
       "      <th>std</th>\n",
       "      <td>78951.670137</td>\n",
       "      <td>1.355630e+01</td>\n",
       "      <td>0.499532</td>\n",
       "      <td>5.623045</td>\n",
       "      <td>1.707484</td>\n",
       "      <td>1.476730</td>\n",
       "      <td>3.181419e+05</td>\n",
       "      <td>16.454378</td>\n",
       "      <td>11.471307</td>\n",
       "      <td>3.276842e+05</td>\n",
       "      <td>1.106488</td>\n",
       "      <td>0.154369</td>\n",
       "      <td>9.388723</td>\n",
       "      <td>0.777943</td>\n",
       "      <td>3.136583e+05</td>\n",
       "      <td>16.376065</td>\n",
       "      <td>11.596212</td>\n",
       "      <td>3.287888e+05</td>\n",
       "      <td>1.039511</td>\n",
       "      <td>0.182317</td>\n",
       "      <td>9.366489</td>\n",
       "      <td>0.833070</td>\n",
       "      <td>3.305531e+05</td>\n",
       "      <td>16.466801</td>\n",
       "      <td>11.707343</td>\n",
       "    </tr>\n",
       "    <tr>\n",
       "      <th>min</th>\n",
       "      <td>110.000000</td>\n",
       "      <td>1.298135e+06</td>\n",
       "      <td>1.000000</td>\n",
       "      <td>1.000000</td>\n",
       "      <td>1.000000</td>\n",
       "      <td>0.000000</td>\n",
       "      <td>5.334000e+03</td>\n",
       "      <td>0.000000</td>\n",
       "      <td>0.000000</td>\n",
       "      <td>8.917000e+03</td>\n",
       "      <td>0.000000</td>\n",
       "      <td>0.000000</td>\n",
       "      <td>0.000000</td>\n",
       "      <td>0.000000</td>\n",
       "      <td>5.334000e+03</td>\n",
       "      <td>0.000000</td>\n",
       "      <td>0.000000</td>\n",
       "      <td>8.917000e+03</td>\n",
       "      <td>0.100000</td>\n",
       "      <td>0.000000</td>\n",
       "      <td>0.000000</td>\n",
       "      <td>0.000000</td>\n",
       "      <td>5.334000e+03</td>\n",
       "      <td>0.000000</td>\n",
       "      <td>1.000000</td>\n",
       "    </tr>\n",
       "    <tr>\n",
       "      <th>25%</th>\n",
       "      <td>18030.000000</td>\n",
       "      <td>1.298145e+06</td>\n",
       "      <td>1.000000</td>\n",
       "      <td>5.000000</td>\n",
       "      <td>2.000000</td>\n",
       "      <td>0.000000</td>\n",
       "      <td>3.089670e+05</td>\n",
       "      <td>4.000000</td>\n",
       "      <td>4.000000</td>\n",
       "      <td>3.481090e+05</td>\n",
       "      <td>0.500000</td>\n",
       "      <td>0.000000</td>\n",
       "      <td>5.000000</td>\n",
       "      <td>0.000000</td>\n",
       "      <td>3.034270e+05</td>\n",
       "      <td>2.000000</td>\n",
       "      <td>4.000000</td>\n",
       "      <td>3.481090e+05</td>\n",
       "      <td>1.000000</td>\n",
       "      <td>0.000000</td>\n",
       "      <td>7.000000</td>\n",
       "      <td>0.000000</td>\n",
       "      <td>3.233890e+05</td>\n",
       "      <td>3.000000</td>\n",
       "      <td>5.000000</td>\n",
       "    </tr>\n",
       "    <tr>\n",
       "      <th>50%</th>\n",
       "      <td>29010.000000</td>\n",
       "      <td>1.298157e+06</td>\n",
       "      <td>1.000000</td>\n",
       "      <td>10.000000</td>\n",
       "      <td>3.000000</td>\n",
       "      <td>1.000000</td>\n",
       "      <td>4.465070e+05</td>\n",
       "      <td>10.000000</td>\n",
       "      <td>10.000000</td>\n",
       "      <td>5.420230e+05</td>\n",
       "      <td>1.400000</td>\n",
       "      <td>0.000000</td>\n",
       "      <td>11.000000</td>\n",
       "      <td>0.000000</td>\n",
       "      <td>4.373160e+05</td>\n",
       "      <td>9.000000</td>\n",
       "      <td>9.000000</td>\n",
       "      <td>5.420230e+05</td>\n",
       "      <td>2.000000</td>\n",
       "      <td>0.000000</td>\n",
       "      <td>13.000000</td>\n",
       "      <td>0.000000</td>\n",
       "      <td>4.824780e+05</td>\n",
       "      <td>9.000000</td>\n",
       "      <td>10.000000</td>\n",
       "    </tr>\n",
       "    <tr>\n",
       "      <th>75%</th>\n",
       "      <td>118040.000000</td>\n",
       "      <td>1.298169e+06</td>\n",
       "      <td>2.000000</td>\n",
       "      <td>15.000000</td>\n",
       "      <td>5.000000</td>\n",
       "      <td>1.000000</td>\n",
       "      <td>7.843670e+05</td>\n",
       "      <td>23.000000</td>\n",
       "      <td>19.000000</td>\n",
       "      <td>9.229430e+05</td>\n",
       "      <td>2.400000</td>\n",
       "      <td>0.000000</td>\n",
       "      <td>18.000000</td>\n",
       "      <td>1.000000</td>\n",
       "      <td>6.718050e+05</td>\n",
       "      <td>23.000000</td>\n",
       "      <td>19.000000</td>\n",
       "      <td>9.229430e+05</td>\n",
       "      <td>3.000000</td>\n",
       "      <td>0.000000</td>\n",
       "      <td>20.000000</td>\n",
       "      <td>1.000000</td>\n",
       "      <td>8.337770e+05</td>\n",
       "      <td>21.000000</td>\n",
       "      <td>19.000000</td>\n",
       "    </tr>\n",
       "    <tr>\n",
       "      <th>max</th>\n",
       "      <td>219090.000000</td>\n",
       "      <td>1.298179e+06</td>\n",
       "      <td>2.000000</td>\n",
       "      <td>20.000000</td>\n",
       "      <td>6.000000</td>\n",
       "      <td>7.000000</td>\n",
       "      <td>1.278252e+06</td>\n",
       "      <td>109.000000</td>\n",
       "      <td>63.000000</td>\n",
       "      <td>1.278252e+06</td>\n",
       "      <td>4.000000</td>\n",
       "      <td>2.000000</td>\n",
       "      <td>59.000000</td>\n",
       "      <td>5.000000</td>\n",
       "      <td>1.278252e+06</td>\n",
       "      <td>107.000000</td>\n",
       "      <td>63.000000</td>\n",
       "      <td>1.278252e+06</td>\n",
       "      <td>4.000000</td>\n",
       "      <td>2.000000</td>\n",
       "      <td>59.000000</td>\n",
       "      <td>4.000000</td>\n",
       "      <td>1.278252e+06</td>\n",
       "      <td>109.000000</td>\n",
       "      <td>60.000000</td>\n",
       "    </tr>\n",
       "  </tbody>\n",
       "</table>\n",
       "</div>"
      ],
      "text/plain": [
       "          comment_id      match_id   innings_id         over         ball  \\\n",
       "count    9814.000000  9.814000e+03  9814.000000  9814.000000  9814.000000   \n",
       "mean    85399.661708  1.298157e+06     1.477787    10.082841     3.486856   \n",
       "std     78951.670137  1.355630e+01     0.499532     5.623045     1.707484   \n",
       "min       110.000000  1.298135e+06     1.000000     1.000000     1.000000   \n",
       "25%     18030.000000  1.298145e+06     1.000000     5.000000     2.000000   \n",
       "50%     29010.000000  1.298157e+06     1.000000    10.000000     3.000000   \n",
       "75%    118040.000000  1.298169e+06     2.000000    15.000000     5.000000   \n",
       "max    219090.000000  1.298179e+06     2.000000    20.000000     6.000000   \n",
       "\n",
       "              runs   batsman1_id  batsman1_runs  batsman1_balls    bowler1_id  \\\n",
       "count  9814.000000  9.814000e+03    9814.000000     9814.000000  9.814000e+03   \n",
       "mean      1.202262  5.377303e+05      15.691971       13.249440  6.226676e+05   \n",
       "std       1.476730  3.181419e+05      16.454378       11.471307  3.276842e+05   \n",
       "min       0.000000  5.334000e+03       0.000000        0.000000  8.917000e+03   \n",
       "25%       0.000000  3.089670e+05       4.000000        4.000000  3.481090e+05   \n",
       "50%       1.000000  4.465070e+05      10.000000       10.000000  5.420230e+05   \n",
       "75%       1.000000  7.843670e+05      23.000000       19.000000  9.229430e+05   \n",
       "max       7.000000  1.278252e+06     109.000000       63.000000  1.278252e+06   \n",
       "\n",
       "       bowler1_overs  bowler1_maidens  bowler1_runs  bowler1_wkts  \\\n",
       "count    9814.000000      9814.000000   9814.000000   9814.000000   \n",
       "mean        1.659038         0.022926     12.341655      0.541268   \n",
       "std         1.106488         0.154369      9.388723      0.777943   \n",
       "min         0.000000         0.000000      0.000000      0.000000   \n",
       "25%         0.500000         0.000000      5.000000      0.000000   \n",
       "50%         1.400000         0.000000     11.000000      0.000000   \n",
       "75%         2.400000         0.000000     18.000000      1.000000   \n",
       "max         4.000000         2.000000     59.000000      5.000000   \n",
       "\n",
       "        batsman2_id  batsman2_runs  batsman2_balls    bowler2_id  \\\n",
       "count  9.814000e+03    9814.000000     9814.000000  9.288000e+03   \n",
       "mean   5.218191e+05      14.978296       12.738537  6.216881e+05   \n",
       "std    3.136583e+05      16.376065       11.596212  3.287888e+05   \n",
       "min    5.334000e+03       0.000000        0.000000  8.917000e+03   \n",
       "25%    3.034270e+05       2.000000        4.000000  3.481090e+05   \n",
       "50%    4.373160e+05       9.000000        9.000000  5.420230e+05   \n",
       "75%    6.718050e+05      23.000000       19.000000  9.229430e+05   \n",
       "max    1.278252e+06     107.000000       63.000000  1.278252e+06   \n",
       "\n",
       "       bowler2_overs  bowler2_maidens  bowler2_runs  bowler2_wkts  \\\n",
       "count    9288.000000      9288.000000   9288.000000   9288.000000   \n",
       "mean        2.172265         0.031654     14.684755      0.641042   \n",
       "std         1.039511         0.182317      9.366489      0.833070   \n",
       "min         0.100000         0.000000      0.000000      0.000000   \n",
       "25%         1.000000         0.000000      7.000000      0.000000   \n",
       "50%         2.000000         0.000000     13.000000      0.000000   \n",
       "75%         3.000000         0.000000     20.000000      1.000000   \n",
       "max         4.000000         2.000000     59.000000      4.000000   \n",
       "\n",
       "          wicket_id  wkt_batsman_runs  wkt_batsman_balls  \n",
       "count  5.510000e+02        551.000000         551.000000  \n",
       "mean   5.691470e+05         15.029038          13.800363  \n",
       "std    3.305531e+05         16.466801          11.707343  \n",
       "min    5.334000e+03          0.000000           1.000000  \n",
       "25%    3.233890e+05          3.000000           5.000000  \n",
       "50%    4.824780e+05          9.000000          10.000000  \n",
       "75%    8.337770e+05         21.000000          19.000000  \n",
       "max    1.278252e+06        109.000000          60.000000  "
      ]
     },
     "execution_count": 4,
     "metadata": {},
     "output_type": "execute_result"
    }
   ],
   "source": [
    "df.describe()"
   ]
  },
  {
   "cell_type": "markdown",
   "metadata": {},
   "source": [
    "## **EDA**"
   ]
  },
  {
   "cell_type": "markdown",
   "metadata": {},
   "source": [
    "##### We can drop columns end with id as they don't give us insights on anything"
   ]
  },
  {
   "cell_type": "code",
   "execution_count": 5,
   "metadata": {
    "metadata": {}
   },
   "outputs": [
    {
     "data": {
      "text/html": [
       "<div>\n",
       "<style scoped>\n",
       "    .dataframe tbody tr th:only-of-type {\n",
       "        vertical-align: middle;\n",
       "    }\n",
       "\n",
       "    .dataframe tbody tr th {\n",
       "        vertical-align: top;\n",
       "    }\n",
       "\n",
       "    .dataframe thead th {\n",
       "        text-align: right;\n",
       "    }\n",
       "</style>\n",
       "<table border=\"1\" class=\"dataframe\">\n",
       "  <thead>\n",
       "    <tr style=\"text-align: right;\">\n",
       "      <th></th>\n",
       "      <th>match_name</th>\n",
       "      <th>home_team</th>\n",
       "      <th>away_team</th>\n",
       "      <th>current_innings</th>\n",
       "      <th>over</th>\n",
       "      <th>ball</th>\n",
       "      <th>runs</th>\n",
       "      <th>shortText</th>\n",
       "      <th>isBoundary</th>\n",
       "      <th>isWide</th>\n",
       "      <th>isNoball</th>\n",
       "      <th>batsman1_name</th>\n",
       "      <th>batsman1_runs</th>\n",
       "      <th>batsman1_balls</th>\n",
       "      <th>bowler1_name</th>\n",
       "      <th>bowler1_overs</th>\n",
       "      <th>bowler1_maidens</th>\n",
       "      <th>bowler1_runs</th>\n",
       "      <th>bowler1_wkts</th>\n",
       "      <th>batsman2_name</th>\n",
       "      <th>batsman2_runs</th>\n",
       "      <th>batsman2_balls</th>\n",
       "      <th>bowler2_name</th>\n",
       "      <th>bowler2_overs</th>\n",
       "      <th>bowler2_maidens</th>\n",
       "      <th>bowler2_runs</th>\n",
       "      <th>bowler2_wkts</th>\n",
       "      <th>wkt_batsman_name</th>\n",
       "      <th>wkt_bowler_name</th>\n",
       "      <th>wkt_batsman_runs</th>\n",
       "      <th>wkt_batsman_balls</th>\n",
       "      <th>wkt_text</th>\n",
       "      <th>isRetiredHurt</th>\n",
       "      <th>text</th>\n",
       "      <th>preText</th>\n",
       "      <th>postText</th>\n",
       "    </tr>\n",
       "  </thead>\n",
       "  <tbody>\n",
       "    <tr>\n",
       "      <th>0</th>\n",
       "      <td>ENG v PAK</td>\n",
       "      <td>PAK</td>\n",
       "      <td>ENG</td>\n",
       "      <td>PAK</td>\n",
       "      <td>1</td>\n",
       "      <td>1</td>\n",
       "      <td>0</td>\n",
       "      <td>Stokes to Mohammad Rizwan, no run</td>\n",
       "      <td>False</td>\n",
       "      <td>False</td>\n",
       "      <td>False</td>\n",
       "      <td>Mohammad Rizwan</td>\n",
       "      <td>0</td>\n",
       "      <td>2</td>\n",
       "      <td>Ben Stokes</td>\n",
       "      <td>0.1</td>\n",
       "      <td>0</td>\n",
       "      <td>2</td>\n",
       "      <td>0</td>\n",
       "      <td>Babar Azam</td>\n",
       "      <td>0</td>\n",
       "      <td>0</td>\n",
       "      <td>NaN</td>\n",
       "      <td>NaN</td>\n",
       "      <td>NaN</td>\n",
       "      <td>NaN</td>\n",
       "      <td>NaN</td>\n",
       "      <td>NaN</td>\n",
       "      <td>NaN</td>\n",
       "      <td>NaN</td>\n",
       "      <td>NaN</td>\n",
       "      <td>NaN</td>\n",
       "      <td>False</td>\n",
       "      <td>short again, and he gets some extra bounce on ...</td>\n",
       "      <td>NaN</td>\n",
       "      <td>NaN</td>\n",
       "    </tr>\n",
       "    <tr>\n",
       "      <th>1</th>\n",
       "      <td>ENG v PAK</td>\n",
       "      <td>PAK</td>\n",
       "      <td>ENG</td>\n",
       "      <td>PAK</td>\n",
       "      <td>1</td>\n",
       "      <td>1</td>\n",
       "      <td>1</td>\n",
       "      <td>Stokes to Mohammad Rizwan, 1 wide</td>\n",
       "      <td>False</td>\n",
       "      <td>True</td>\n",
       "      <td>False</td>\n",
       "      <td>Mohammad Rizwan</td>\n",
       "      <td>0</td>\n",
       "      <td>1</td>\n",
       "      <td>Ben Stokes</td>\n",
       "      <td>0.0</td>\n",
       "      <td>0</td>\n",
       "      <td>2</td>\n",
       "      <td>0</td>\n",
       "      <td>Babar Azam</td>\n",
       "      <td>0</td>\n",
       "      <td>0</td>\n",
       "      <td>NaN</td>\n",
       "      <td>NaN</td>\n",
       "      <td>NaN</td>\n",
       "      <td>NaN</td>\n",
       "      <td>NaN</td>\n",
       "      <td>NaN</td>\n",
       "      <td>NaN</td>\n",
       "      <td>NaN</td>\n",
       "      <td>NaN</td>\n",
       "      <td>NaN</td>\n",
       "      <td>False</td>\n",
       "      <td>and he'll have to bowl another free-hit after ...</td>\n",
       "      <td>&lt;p&gt;Free-hit&lt;/p&gt;</td>\n",
       "      <td>NaN</td>\n",
       "    </tr>\n",
       "    <tr>\n",
       "      <th>2</th>\n",
       "      <td>ENG v PAK</td>\n",
       "      <td>PAK</td>\n",
       "      <td>ENG</td>\n",
       "      <td>PAK</td>\n",
       "      <td>1</td>\n",
       "      <td>1</td>\n",
       "      <td>1</td>\n",
       "      <td>Stokes to Mohammad Rizwan, 1 no ball</td>\n",
       "      <td>False</td>\n",
       "      <td>False</td>\n",
       "      <td>True</td>\n",
       "      <td>Mohammad Rizwan</td>\n",
       "      <td>0</td>\n",
       "      <td>1</td>\n",
       "      <td>Ben Stokes</td>\n",
       "      <td>0.0</td>\n",
       "      <td>0</td>\n",
       "      <td>1</td>\n",
       "      <td>0</td>\n",
       "      <td>Babar Azam</td>\n",
       "      <td>0</td>\n",
       "      <td>0</td>\n",
       "      <td>NaN</td>\n",
       "      <td>NaN</td>\n",
       "      <td>NaN</td>\n",
       "      <td>NaN</td>\n",
       "      <td>NaN</td>\n",
       "      <td>NaN</td>\n",
       "      <td>NaN</td>\n",
       "      <td>NaN</td>\n",
       "      <td>NaN</td>\n",
       "      <td>NaN</td>\n",
       "      <td>False</td>\n",
       "      <td>full, and a hint of shape away from off stump....</td>\n",
       "      <td>&lt;p&gt;&lt;b&gt;6.58pm&lt;/b&gt; Thanks, Andrew M. The MCG is ...</td>\n",
       "      <td>NaN</td>\n",
       "    </tr>\n",
       "    <tr>\n",
       "      <th>3</th>\n",
       "      <td>ENG v PAK</td>\n",
       "      <td>PAK</td>\n",
       "      <td>ENG</td>\n",
       "      <td>PAK</td>\n",
       "      <td>1</td>\n",
       "      <td>2</td>\n",
       "      <td>2</td>\n",
       "      <td>Stokes to Mohammad Rizwan, 2 runs</td>\n",
       "      <td>False</td>\n",
       "      <td>False</td>\n",
       "      <td>False</td>\n",
       "      <td>Mohammad Rizwan</td>\n",
       "      <td>2</td>\n",
       "      <td>3</td>\n",
       "      <td>Ben Stokes</td>\n",
       "      <td>0.2</td>\n",
       "      <td>0</td>\n",
       "      <td>4</td>\n",
       "      <td>0</td>\n",
       "      <td>Babar Azam</td>\n",
       "      <td>0</td>\n",
       "      <td>0</td>\n",
       "      <td>NaN</td>\n",
       "      <td>NaN</td>\n",
       "      <td>NaN</td>\n",
       "      <td>NaN</td>\n",
       "      <td>NaN</td>\n",
       "      <td>NaN</td>\n",
       "      <td>NaN</td>\n",
       "      <td>NaN</td>\n",
       "      <td>NaN</td>\n",
       "      <td>NaN</td>\n",
       "      <td>False</td>\n",
       "      <td>shortish, angling down leg, gloves a pull down...</td>\n",
       "      <td>NaN</td>\n",
       "      <td>NaN</td>\n",
       "    </tr>\n",
       "    <tr>\n",
       "      <th>4</th>\n",
       "      <td>ENG v PAK</td>\n",
       "      <td>PAK</td>\n",
       "      <td>ENG</td>\n",
       "      <td>PAK</td>\n",
       "      <td>1</td>\n",
       "      <td>3</td>\n",
       "      <td>0</td>\n",
       "      <td>Stokes to Mohammad Rizwan, no run</td>\n",
       "      <td>False</td>\n",
       "      <td>False</td>\n",
       "      <td>False</td>\n",
       "      <td>Mohammad Rizwan</td>\n",
       "      <td>2</td>\n",
       "      <td>4</td>\n",
       "      <td>Ben Stokes</td>\n",
       "      <td>0.3</td>\n",
       "      <td>0</td>\n",
       "      <td>4</td>\n",
       "      <td>0</td>\n",
       "      <td>Babar Azam</td>\n",
       "      <td>0</td>\n",
       "      <td>0</td>\n",
       "      <td>NaN</td>\n",
       "      <td>NaN</td>\n",
       "      <td>NaN</td>\n",
       "      <td>NaN</td>\n",
       "      <td>NaN</td>\n",
       "      <td>NaN</td>\n",
       "      <td>NaN</td>\n",
       "      <td>NaN</td>\n",
       "      <td>NaN</td>\n",
       "      <td>NaN</td>\n",
       "      <td>False</td>\n",
       "      <td>length ball close to off stump, straightens a ...</td>\n",
       "      <td>NaN</td>\n",
       "      <td>NaN</td>\n",
       "    </tr>\n",
       "  </tbody>\n",
       "</table>\n",
       "</div>"
      ],
      "text/plain": [
       "  match_name home_team away_team current_innings  over  ball  runs  \\\n",
       "0  ENG v PAK       PAK       ENG             PAK     1     1     0   \n",
       "1  ENG v PAK       PAK       ENG             PAK     1     1     1   \n",
       "2  ENG v PAK       PAK       ENG             PAK     1     1     1   \n",
       "3  ENG v PAK       PAK       ENG             PAK     1     2     2   \n",
       "4  ENG v PAK       PAK       ENG             PAK     1     3     0   \n",
       "\n",
       "                              shortText  isBoundary  isWide  isNoball  \\\n",
       "0     Stokes to Mohammad Rizwan, no run       False   False     False   \n",
       "1     Stokes to Mohammad Rizwan, 1 wide       False    True     False   \n",
       "2  Stokes to Mohammad Rizwan, 1 no ball       False   False      True   \n",
       "3     Stokes to Mohammad Rizwan, 2 runs       False   False     False   \n",
       "4     Stokes to Mohammad Rizwan, no run       False   False     False   \n",
       "\n",
       "     batsman1_name  batsman1_runs  batsman1_balls bowler1_name  bowler1_overs  \\\n",
       "0  Mohammad Rizwan              0               2   Ben Stokes            0.1   \n",
       "1  Mohammad Rizwan              0               1   Ben Stokes            0.0   \n",
       "2  Mohammad Rizwan              0               1   Ben Stokes            0.0   \n",
       "3  Mohammad Rizwan              2               3   Ben Stokes            0.2   \n",
       "4  Mohammad Rizwan              2               4   Ben Stokes            0.3   \n",
       "\n",
       "   bowler1_maidens  bowler1_runs  bowler1_wkts batsman2_name  batsman2_runs  \\\n",
       "0                0             2             0    Babar Azam              0   \n",
       "1                0             2             0    Babar Azam              0   \n",
       "2                0             1             0    Babar Azam              0   \n",
       "3                0             4             0    Babar Azam              0   \n",
       "4                0             4             0    Babar Azam              0   \n",
       "\n",
       "   batsman2_balls bowler2_name  bowler2_overs  bowler2_maidens  bowler2_runs  \\\n",
       "0               0          NaN            NaN              NaN           NaN   \n",
       "1               0          NaN            NaN              NaN           NaN   \n",
       "2               0          NaN            NaN              NaN           NaN   \n",
       "3               0          NaN            NaN              NaN           NaN   \n",
       "4               0          NaN            NaN              NaN           NaN   \n",
       "\n",
       "   bowler2_wkts wkt_batsman_name wkt_bowler_name  wkt_batsman_runs  \\\n",
       "0           NaN              NaN             NaN               NaN   \n",
       "1           NaN              NaN             NaN               NaN   \n",
       "2           NaN              NaN             NaN               NaN   \n",
       "3           NaN              NaN             NaN               NaN   \n",
       "4           NaN              NaN             NaN               NaN   \n",
       "\n",
       "   wkt_batsman_balls wkt_text  isRetiredHurt  \\\n",
       "0                NaN      NaN          False   \n",
       "1                NaN      NaN          False   \n",
       "2                NaN      NaN          False   \n",
       "3                NaN      NaN          False   \n",
       "4                NaN      NaN          False   \n",
       "\n",
       "                                                text  \\\n",
       "0  short again, and he gets some extra bounce on ...   \n",
       "1  and he'll have to bowl another free-hit after ...   \n",
       "2  full, and a hint of shape away from off stump....   \n",
       "3  shortish, angling down leg, gloves a pull down...   \n",
       "4  length ball close to off stump, straightens a ...   \n",
       "\n",
       "                                             preText postText  \n",
       "0                                                NaN      NaN  \n",
       "1                                    <p>Free-hit</p>      NaN  \n",
       "2  <p><b>6.58pm</b> Thanks, Andrew M. The MCG is ...      NaN  \n",
       "3                                                NaN      NaN  \n",
       "4                                                NaN      NaN  "
      ]
     },
     "execution_count": 5,
     "metadata": {},
     "output_type": "execute_result"
    }
   ],
   "source": [
    "df = df.drop(columns=df.columns[df.columns.str.endswith('id')])\n",
    "df.head()"
   ]
  },
  {
   "cell_type": "code",
   "execution_count": 6,
   "metadata": {
    "metadata": {}
   },
   "outputs": [
    {
     "name": "stdout",
     "output_type": "stream",
     "text": [
      "<class 'pandas.core.frame.DataFrame'>\n",
      "RangeIndex: 9814 entries, 0 to 9813\n",
      "Data columns (total 36 columns):\n",
      " #   Column             Non-Null Count  Dtype  \n",
      "---  ------             --------------  -----  \n",
      " 0   match_name         9814 non-null   object \n",
      " 1   home_team          9814 non-null   object \n",
      " 2   away_team          9814 non-null   object \n",
      " 3   current_innings    9814 non-null   object \n",
      " 4   over               9814 non-null   int64  \n",
      " 5   ball               9814 non-null   int64  \n",
      " 6   runs               9814 non-null   int64  \n",
      " 7   shortText          9814 non-null   object \n",
      " 8   isBoundary         9814 non-null   bool   \n",
      " 9   isWide             9814 non-null   bool   \n",
      " 10  isNoball           9814 non-null   bool   \n",
      " 11  batsman1_name      9814 non-null   object \n",
      " 12  batsman1_runs      9814 non-null   int64  \n",
      " 13  batsman1_balls     9814 non-null   int64  \n",
      " 14  bowler1_name       9814 non-null   object \n",
      " 15  bowler1_overs      9814 non-null   float64\n",
      " 16  bowler1_maidens    9814 non-null   int64  \n",
      " 17  bowler1_runs       9814 non-null   int64  \n",
      " 18  bowler1_wkts       9814 non-null   int64  \n",
      " 19  batsman2_name      9814 non-null   object \n",
      " 20  batsman2_runs      9814 non-null   int64  \n",
      " 21  batsman2_balls     9814 non-null   int64  \n",
      " 22  bowler2_name       9288 non-null   object \n",
      " 23  bowler2_overs      9288 non-null   float64\n",
      " 24  bowler2_maidens    9288 non-null   float64\n",
      " 25  bowler2_runs       9288 non-null   float64\n",
      " 26  bowler2_wkts       9288 non-null   float64\n",
      " 27  wkt_batsman_name   551 non-null    object \n",
      " 28  wkt_bowler_name    551 non-null    object \n",
      " 29  wkt_batsman_runs   551 non-null    float64\n",
      " 30  wkt_batsman_balls  551 non-null    float64\n",
      " 31  wkt_text           551 non-null    object \n",
      " 32  isRetiredHurt      9814 non-null   bool   \n",
      " 33  text               9786 non-null   object \n",
      " 34  preText            1861 non-null   object \n",
      " 35  postText           1088 non-null   object \n",
      "dtypes: bool(4), float64(7), int64(10), object(15)\n",
      "memory usage: 2.4+ MB\n"
     ]
    }
   ],
   "source": [
    "df.info()"
   ]
  },
  {
   "cell_type": "code",
   "execution_count": 7,
   "metadata": {
    "metadata": {}
   },
   "outputs": [
    {
     "data": {
      "text/html": [
       "<div>\n",
       "<style scoped>\n",
       "    .dataframe tbody tr th:only-of-type {\n",
       "        vertical-align: middle;\n",
       "    }\n",
       "\n",
       "    .dataframe tbody tr th {\n",
       "        vertical-align: top;\n",
       "    }\n",
       "\n",
       "    .dataframe thead th {\n",
       "        text-align: right;\n",
       "    }\n",
       "</style>\n",
       "<table border=\"1\" class=\"dataframe\">\n",
       "  <thead>\n",
       "    <tr style=\"text-align: right;\">\n",
       "      <th></th>\n",
       "      <th>over</th>\n",
       "      <th>ball</th>\n",
       "      <th>runs</th>\n",
       "      <th>batsman1_runs</th>\n",
       "      <th>batsman1_balls</th>\n",
       "      <th>bowler1_overs</th>\n",
       "      <th>bowler1_maidens</th>\n",
       "      <th>bowler1_runs</th>\n",
       "      <th>bowler1_wkts</th>\n",
       "      <th>batsman2_runs</th>\n",
       "      <th>batsman2_balls</th>\n",
       "      <th>bowler2_overs</th>\n",
       "      <th>bowler2_maidens</th>\n",
       "      <th>bowler2_runs</th>\n",
       "      <th>bowler2_wkts</th>\n",
       "      <th>wkt_batsman_runs</th>\n",
       "      <th>wkt_batsman_balls</th>\n",
       "    </tr>\n",
       "  </thead>\n",
       "  <tbody>\n",
       "    <tr>\n",
       "      <th>count</th>\n",
       "      <td>9814.000000</td>\n",
       "      <td>9814.000000</td>\n",
       "      <td>9814.000000</td>\n",
       "      <td>9814.000000</td>\n",
       "      <td>9814.000000</td>\n",
       "      <td>9814.000000</td>\n",
       "      <td>9814.000000</td>\n",
       "      <td>9814.000000</td>\n",
       "      <td>9814.000000</td>\n",
       "      <td>9814.000000</td>\n",
       "      <td>9814.000000</td>\n",
       "      <td>9288.000000</td>\n",
       "      <td>9288.000000</td>\n",
       "      <td>9288.000000</td>\n",
       "      <td>9288.000000</td>\n",
       "      <td>551.000000</td>\n",
       "      <td>551.000000</td>\n",
       "    </tr>\n",
       "    <tr>\n",
       "      <th>mean</th>\n",
       "      <td>10.082841</td>\n",
       "      <td>3.486856</td>\n",
       "      <td>1.202262</td>\n",
       "      <td>15.691971</td>\n",
       "      <td>13.249440</td>\n",
       "      <td>1.659038</td>\n",
       "      <td>0.022926</td>\n",
       "      <td>12.341655</td>\n",
       "      <td>0.541268</td>\n",
       "      <td>14.978296</td>\n",
       "      <td>12.738537</td>\n",
       "      <td>2.172265</td>\n",
       "      <td>0.031654</td>\n",
       "      <td>14.684755</td>\n",
       "      <td>0.641042</td>\n",
       "      <td>15.029038</td>\n",
       "      <td>13.800363</td>\n",
       "    </tr>\n",
       "    <tr>\n",
       "      <th>std</th>\n",
       "      <td>5.623045</td>\n",
       "      <td>1.707484</td>\n",
       "      <td>1.476730</td>\n",
       "      <td>16.454378</td>\n",
       "      <td>11.471307</td>\n",
       "      <td>1.106488</td>\n",
       "      <td>0.154369</td>\n",
       "      <td>9.388723</td>\n",
       "      <td>0.777943</td>\n",
       "      <td>16.376065</td>\n",
       "      <td>11.596212</td>\n",
       "      <td>1.039511</td>\n",
       "      <td>0.182317</td>\n",
       "      <td>9.366489</td>\n",
       "      <td>0.833070</td>\n",
       "      <td>16.466801</td>\n",
       "      <td>11.707343</td>\n",
       "    </tr>\n",
       "    <tr>\n",
       "      <th>min</th>\n",
       "      <td>1.000000</td>\n",
       "      <td>1.000000</td>\n",
       "      <td>0.000000</td>\n",
       "      <td>0.000000</td>\n",
       "      <td>0.000000</td>\n",
       "      <td>0.000000</td>\n",
       "      <td>0.000000</td>\n",
       "      <td>0.000000</td>\n",
       "      <td>0.000000</td>\n",
       "      <td>0.000000</td>\n",
       "      <td>0.000000</td>\n",
       "      <td>0.100000</td>\n",
       "      <td>0.000000</td>\n",
       "      <td>0.000000</td>\n",
       "      <td>0.000000</td>\n",
       "      <td>0.000000</td>\n",
       "      <td>1.000000</td>\n",
       "    </tr>\n",
       "    <tr>\n",
       "      <th>25%</th>\n",
       "      <td>5.000000</td>\n",
       "      <td>2.000000</td>\n",
       "      <td>0.000000</td>\n",
       "      <td>4.000000</td>\n",
       "      <td>4.000000</td>\n",
       "      <td>0.500000</td>\n",
       "      <td>0.000000</td>\n",
       "      <td>5.000000</td>\n",
       "      <td>0.000000</td>\n",
       "      <td>2.000000</td>\n",
       "      <td>4.000000</td>\n",
       "      <td>1.000000</td>\n",
       "      <td>0.000000</td>\n",
       "      <td>7.000000</td>\n",
       "      <td>0.000000</td>\n",
       "      <td>3.000000</td>\n",
       "      <td>5.000000</td>\n",
       "    </tr>\n",
       "    <tr>\n",
       "      <th>50%</th>\n",
       "      <td>10.000000</td>\n",
       "      <td>3.000000</td>\n",
       "      <td>1.000000</td>\n",
       "      <td>10.000000</td>\n",
       "      <td>10.000000</td>\n",
       "      <td>1.400000</td>\n",
       "      <td>0.000000</td>\n",
       "      <td>11.000000</td>\n",
       "      <td>0.000000</td>\n",
       "      <td>9.000000</td>\n",
       "      <td>9.000000</td>\n",
       "      <td>2.000000</td>\n",
       "      <td>0.000000</td>\n",
       "      <td>13.000000</td>\n",
       "      <td>0.000000</td>\n",
       "      <td>9.000000</td>\n",
       "      <td>10.000000</td>\n",
       "    </tr>\n",
       "    <tr>\n",
       "      <th>75%</th>\n",
       "      <td>15.000000</td>\n",
       "      <td>5.000000</td>\n",
       "      <td>1.000000</td>\n",
       "      <td>23.000000</td>\n",
       "      <td>19.000000</td>\n",
       "      <td>2.400000</td>\n",
       "      <td>0.000000</td>\n",
       "      <td>18.000000</td>\n",
       "      <td>1.000000</td>\n",
       "      <td>23.000000</td>\n",
       "      <td>19.000000</td>\n",
       "      <td>3.000000</td>\n",
       "      <td>0.000000</td>\n",
       "      <td>20.000000</td>\n",
       "      <td>1.000000</td>\n",
       "      <td>21.000000</td>\n",
       "      <td>19.000000</td>\n",
       "    </tr>\n",
       "    <tr>\n",
       "      <th>max</th>\n",
       "      <td>20.000000</td>\n",
       "      <td>6.000000</td>\n",
       "      <td>7.000000</td>\n",
       "      <td>109.000000</td>\n",
       "      <td>63.000000</td>\n",
       "      <td>4.000000</td>\n",
       "      <td>2.000000</td>\n",
       "      <td>59.000000</td>\n",
       "      <td>5.000000</td>\n",
       "      <td>107.000000</td>\n",
       "      <td>63.000000</td>\n",
       "      <td>4.000000</td>\n",
       "      <td>2.000000</td>\n",
       "      <td>59.000000</td>\n",
       "      <td>4.000000</td>\n",
       "      <td>109.000000</td>\n",
       "      <td>60.000000</td>\n",
       "    </tr>\n",
       "  </tbody>\n",
       "</table>\n",
       "</div>"
      ],
      "text/plain": [
       "              over         ball         runs  batsman1_runs  batsman1_balls  \\\n",
       "count  9814.000000  9814.000000  9814.000000    9814.000000     9814.000000   \n",
       "mean     10.082841     3.486856     1.202262      15.691971       13.249440   \n",
       "std       5.623045     1.707484     1.476730      16.454378       11.471307   \n",
       "min       1.000000     1.000000     0.000000       0.000000        0.000000   \n",
       "25%       5.000000     2.000000     0.000000       4.000000        4.000000   \n",
       "50%      10.000000     3.000000     1.000000      10.000000       10.000000   \n",
       "75%      15.000000     5.000000     1.000000      23.000000       19.000000   \n",
       "max      20.000000     6.000000     7.000000     109.000000       63.000000   \n",
       "\n",
       "       bowler1_overs  bowler1_maidens  bowler1_runs  bowler1_wkts  \\\n",
       "count    9814.000000      9814.000000   9814.000000   9814.000000   \n",
       "mean        1.659038         0.022926     12.341655      0.541268   \n",
       "std         1.106488         0.154369      9.388723      0.777943   \n",
       "min         0.000000         0.000000      0.000000      0.000000   \n",
       "25%         0.500000         0.000000      5.000000      0.000000   \n",
       "50%         1.400000         0.000000     11.000000      0.000000   \n",
       "75%         2.400000         0.000000     18.000000      1.000000   \n",
       "max         4.000000         2.000000     59.000000      5.000000   \n",
       "\n",
       "       batsman2_runs  batsman2_balls  bowler2_overs  bowler2_maidens  \\\n",
       "count    9814.000000     9814.000000    9288.000000      9288.000000   \n",
       "mean       14.978296       12.738537       2.172265         0.031654   \n",
       "std        16.376065       11.596212       1.039511         0.182317   \n",
       "min         0.000000        0.000000       0.100000         0.000000   \n",
       "25%         2.000000        4.000000       1.000000         0.000000   \n",
       "50%         9.000000        9.000000       2.000000         0.000000   \n",
       "75%        23.000000       19.000000       3.000000         0.000000   \n",
       "max       107.000000       63.000000       4.000000         2.000000   \n",
       "\n",
       "       bowler2_runs  bowler2_wkts  wkt_batsman_runs  wkt_batsman_balls  \n",
       "count   9288.000000   9288.000000        551.000000         551.000000  \n",
       "mean      14.684755      0.641042         15.029038          13.800363  \n",
       "std        9.366489      0.833070         16.466801          11.707343  \n",
       "min        0.000000      0.000000          0.000000           1.000000  \n",
       "25%        7.000000      0.000000          3.000000           5.000000  \n",
       "50%       13.000000      0.000000          9.000000          10.000000  \n",
       "75%       20.000000      1.000000         21.000000          19.000000  \n",
       "max       59.000000      4.000000        109.000000          60.000000  "
      ]
     },
     "execution_count": 7,
     "metadata": {},
     "output_type": "execute_result"
    }
   ],
   "source": [
    "df.describe()"
   ]
  },
  {
   "cell_type": "code",
   "execution_count": 8,
   "metadata": {
    "metadata": {}
   },
   "outputs": [
    {
     "data": {
      "application/vnd.plotly.v1+json": {
       "config": {
        "plotlyServerURL": "https://plot.ly"
       },
       "data": [
        {
         "alignmentgroup": "True",
         "hovertemplate": "index=%{x}<br>number of matches in away=%{y}<extra></extra>",
         "legendgroup": "NED",
         "marker": {
          "color": "#636efa",
          "pattern": {
           "shape": ""
          }
         },
         "name": "NED",
         "offsetgroup": "NED",
         "orientation": "v",
         "showlegend": true,
         "textposition": "auto",
         "texttemplate": "%{y}",
         "type": "bar",
         "x": [
          "NED"
         ],
         "xaxis": "x",
         "y": [
          1468
         ],
         "yaxis": "y"
        },
        {
         "alignmentgroup": "True",
         "hovertemplate": "index=%{x}<br>number of matches in away=%{y}<extra></extra>",
         "legendgroup": "IRE",
         "marker": {
          "color": "#EF553B",
          "pattern": {
           "shape": ""
          }
         },
         "name": "IRE",
         "offsetgroup": "IRE",
         "orientation": "v",
         "showlegend": true,
         "textposition": "auto",
         "texttemplate": "%{y}",
         "type": "bar",
         "x": [
          "IRE"
         ],
         "xaxis": "x",
         "y": [
          1210
         ],
         "yaxis": "y"
        },
        {
         "alignmentgroup": "True",
         "hovertemplate": "index=%{x}<br>number of matches in away=%{y}<extra></extra>",
         "legendgroup": "ENG",
         "marker": {
          "color": "#00cc96",
          "pattern": {
           "shape": ""
          }
         },
         "name": "ENG",
         "offsetgroup": "ENG",
         "orientation": "v",
         "showlegend": true,
         "textposition": "auto",
         "texttemplate": "%{y}",
         "type": "bar",
         "x": [
          "ENG"
         ],
         "xaxis": "x",
         "y": [
          1163
         ],
         "yaxis": "y"
        },
        {
         "alignmentgroup": "True",
         "hovertemplate": "index=%{x}<br>number of matches in away=%{y}<extra></extra>",
         "legendgroup": "ZIM",
         "marker": {
          "color": "#ab63fa",
          "pattern": {
           "shape": ""
          }
         },
         "name": "ZIM",
         "offsetgroup": "ZIM",
         "orientation": "v",
         "showlegend": true,
         "textposition": "auto",
         "texttemplate": "%{y}",
         "type": "bar",
         "x": [
          "ZIM"
         ],
         "xaxis": "x",
         "y": [
          962
         ],
         "yaxis": "y"
        },
        {
         "alignmentgroup": "True",
         "hovertemplate": "index=%{x}<br>number of matches in away=%{y}<extra></extra>",
         "legendgroup": "SL",
         "marker": {
          "color": "#FFA15A",
          "pattern": {
           "shape": ""
          }
         },
         "name": "SL",
         "offsetgroup": "SL",
         "orientation": "v",
         "showlegend": true,
         "textposition": "auto",
         "texttemplate": "%{y}",
         "type": "bar",
         "x": [
          "SL"
         ],
         "xaxis": "x",
         "y": [
          942
         ],
         "yaxis": "y"
        },
        {
         "alignmentgroup": "True",
         "hovertemplate": "index=%{x}<br>number of matches in away=%{y}<extra></extra>",
         "legendgroup": "PAK",
         "marker": {
          "color": "#19d3f3",
          "pattern": {
           "shape": ""
          }
         },
         "name": "PAK",
         "offsetgroup": "PAK",
         "orientation": "v",
         "showlegend": true,
         "textposition": "auto",
         "texttemplate": "%{y}",
         "type": "bar",
         "x": [
          "PAK"
         ],
         "xaxis": "x",
         "y": [
          927
         ],
         "yaxis": "y"
        },
        {
         "alignmentgroup": "True",
         "hovertemplate": "index=%{x}<br>number of matches in away=%{y}<extra></extra>",
         "legendgroup": "SA",
         "marker": {
          "color": "#FF6692",
          "pattern": {
           "shape": ""
          }
         },
         "name": "SA",
         "offsetgroup": "SA",
         "orientation": "v",
         "showlegend": true,
         "textposition": "auto",
         "texttemplate": "%{y}",
         "type": "bar",
         "x": [
          "SA"
         ],
         "xaxis": "x",
         "y": [
          775
         ],
         "yaxis": "y"
        },
        {
         "alignmentgroup": "True",
         "hovertemplate": "index=%{x}<br>number of matches in away=%{y}<extra></extra>",
         "legendgroup": "AUS",
         "marker": {
          "color": "#B6E880",
          "pattern": {
           "shape": ""
          }
         },
         "name": "AUS",
         "offsetgroup": "AUS",
         "orientation": "v",
         "showlegend": true,
         "textposition": "auto",
         "texttemplate": "%{y}",
         "type": "bar",
         "x": [
          "AUS"
         ],
         "xaxis": "x",
         "y": [
          459
         ],
         "yaxis": "y"
        },
        {
         "alignmentgroup": "True",
         "hovertemplate": "index=%{x}<br>number of matches in away=%{y}<extra></extra>",
         "legendgroup": "BAN",
         "marker": {
          "color": "#FF97FF",
          "pattern": {
           "shape": ""
          }
         },
         "name": "BAN",
         "offsetgroup": "BAN",
         "orientation": "v",
         "showlegend": true,
         "textposition": "auto",
         "texttemplate": "%{y}",
         "type": "bar",
         "x": [
          "BAN"
         ],
         "xaxis": "x",
         "y": [
          450
         ],
         "yaxis": "y"
        },
        {
         "alignmentgroup": "True",
         "hovertemplate": "index=%{x}<br>number of matches in away=%{y}<extra></extra>",
         "legendgroup": "INDIA",
         "marker": {
          "color": "#FECB52",
          "pattern": {
           "shape": ""
          }
         },
         "name": "INDIA",
         "offsetgroup": "INDIA",
         "orientation": "v",
         "showlegend": true,
         "textposition": "auto",
         "texttemplate": "%{y}",
         "type": "bar",
         "x": [
          "INDIA"
         ],
         "xaxis": "x",
         "y": [
          250
         ],
         "yaxis": "y"
        },
        {
         "alignmentgroup": "True",
         "hovertemplate": "index=%{x}<br>number of matches in away=%{y}<extra></extra>",
         "legendgroup": "NAM",
         "marker": {
          "color": "#636efa",
          "pattern": {
           "shape": ""
          }
         },
         "name": "NAM",
         "offsetgroup": "NAM",
         "orientation": "v",
         "showlegend": true,
         "textposition": "auto",
         "texttemplate": "%{y}",
         "type": "bar",
         "x": [
          "NAM"
         ],
         "xaxis": "x",
         "y": [
          250
         ],
         "yaxis": "y"
        },
        {
         "alignmentgroup": "True",
         "hovertemplate": "index=%{x}<br>number of matches in away=%{y}<extra></extra>",
         "legendgroup": "NZ",
         "marker": {
          "color": "#EF553B",
          "pattern": {
           "shape": ""
          }
         },
         "name": "NZ",
         "offsetgroup": "NZ",
         "orientation": "v",
         "showlegend": true,
         "textposition": "auto",
         "texttemplate": "%{y}",
         "type": "bar",
         "x": [
          "NZ"
         ],
         "xaxis": "x",
         "y": [
          246
         ],
         "yaxis": "y"
        },
        {
         "alignmentgroup": "True",
         "hovertemplate": "index=%{x}<br>number of matches in away=%{y}<extra></extra>",
         "legendgroup": "AFG",
         "marker": {
          "color": "#00cc96",
          "pattern": {
           "shape": ""
          }
         },
         "name": "AFG",
         "offsetgroup": "AFG",
         "orientation": "v",
         "showlegend": true,
         "textposition": "auto",
         "texttemplate": "%{y}",
         "type": "bar",
         "x": [
          "AFG"
         ],
         "xaxis": "x",
         "y": [
          244
         ],
         "yaxis": "y"
        },
        {
         "alignmentgroup": "True",
         "hovertemplate": "index=%{x}<br>number of matches in away=%{y}<extra></extra>",
         "legendgroup": "WI",
         "marker": {
          "color": "#ab63fa",
          "pattern": {
           "shape": ""
          }
         },
         "name": "WI",
         "offsetgroup": "WI",
         "orientation": "v",
         "showlegend": true,
         "textposition": "auto",
         "texttemplate": "%{y}",
         "type": "bar",
         "x": [
          "WI"
         ],
         "xaxis": "x",
         "y": [
          241
         ],
         "yaxis": "y"
        },
        {
         "alignmentgroup": "True",
         "hovertemplate": "index=%{x}<br>number of matches in away=%{y}<extra></extra>",
         "legendgroup": "UAE",
         "marker": {
          "color": "#FFA15A",
          "pattern": {
           "shape": ""
          }
         },
         "name": "UAE",
         "offsetgroup": "UAE",
         "orientation": "v",
         "showlegend": true,
         "textposition": "auto",
         "texttemplate": "%{y}",
         "type": "bar",
         "x": [
          "UAE"
         ],
         "xaxis": "x",
         "y": [
          227
         ],
         "yaxis": "y"
        }
       ],
       "layout": {
        "barmode": "relative",
        "legend": {
         "title": {
          "text": "index"
         },
         "tracegroupgap": 0
        },
        "template": {
         "data": {
          "bar": [
           {
            "error_x": {
             "color": "#f2f5fa"
            },
            "error_y": {
             "color": "#f2f5fa"
            },
            "marker": {
             "line": {
              "color": "rgb(17,17,17)",
              "width": 0.5
             },
             "pattern": {
              "fillmode": "overlay",
              "size": 10,
              "solidity": 0.2
             }
            },
            "type": "bar"
           }
          ],
          "barpolar": [
           {
            "marker": {
             "line": {
              "color": "rgb(17,17,17)",
              "width": 0.5
             },
             "pattern": {
              "fillmode": "overlay",
              "size": 10,
              "solidity": 0.2
             }
            },
            "type": "barpolar"
           }
          ],
          "carpet": [
           {
            "aaxis": {
             "endlinecolor": "#A2B1C6",
             "gridcolor": "#506784",
             "linecolor": "#506784",
             "minorgridcolor": "#506784",
             "startlinecolor": "#A2B1C6"
            },
            "baxis": {
             "endlinecolor": "#A2B1C6",
             "gridcolor": "#506784",
             "linecolor": "#506784",
             "minorgridcolor": "#506784",
             "startlinecolor": "#A2B1C6"
            },
            "type": "carpet"
           }
          ],
          "choropleth": [
           {
            "colorbar": {
             "outlinewidth": 0,
             "ticks": ""
            },
            "type": "choropleth"
           }
          ],
          "contour": [
           {
            "colorbar": {
             "outlinewidth": 0,
             "ticks": ""
            },
            "colorscale": [
             [
              0,
              "#0d0887"
             ],
             [
              0.1111111111111111,
              "#46039f"
             ],
             [
              0.2222222222222222,
              "#7201a8"
             ],
             [
              0.3333333333333333,
              "#9c179e"
             ],
             [
              0.4444444444444444,
              "#bd3786"
             ],
             [
              0.5555555555555556,
              "#d8576b"
             ],
             [
              0.6666666666666666,
              "#ed7953"
             ],
             [
              0.7777777777777778,
              "#fb9f3a"
             ],
             [
              0.8888888888888888,
              "#fdca26"
             ],
             [
              1,
              "#f0f921"
             ]
            ],
            "type": "contour"
           }
          ],
          "contourcarpet": [
           {
            "colorbar": {
             "outlinewidth": 0,
             "ticks": ""
            },
            "type": "contourcarpet"
           }
          ],
          "heatmap": [
           {
            "colorbar": {
             "outlinewidth": 0,
             "ticks": ""
            },
            "colorscale": [
             [
              0,
              "#0d0887"
             ],
             [
              0.1111111111111111,
              "#46039f"
             ],
             [
              0.2222222222222222,
              "#7201a8"
             ],
             [
              0.3333333333333333,
              "#9c179e"
             ],
             [
              0.4444444444444444,
              "#bd3786"
             ],
             [
              0.5555555555555556,
              "#d8576b"
             ],
             [
              0.6666666666666666,
              "#ed7953"
             ],
             [
              0.7777777777777778,
              "#fb9f3a"
             ],
             [
              0.8888888888888888,
              "#fdca26"
             ],
             [
              1,
              "#f0f921"
             ]
            ],
            "type": "heatmap"
           }
          ],
          "heatmapgl": [
           {
            "colorbar": {
             "outlinewidth": 0,
             "ticks": ""
            },
            "colorscale": [
             [
              0,
              "#0d0887"
             ],
             [
              0.1111111111111111,
              "#46039f"
             ],
             [
              0.2222222222222222,
              "#7201a8"
             ],
             [
              0.3333333333333333,
              "#9c179e"
             ],
             [
              0.4444444444444444,
              "#bd3786"
             ],
             [
              0.5555555555555556,
              "#d8576b"
             ],
             [
              0.6666666666666666,
              "#ed7953"
             ],
             [
              0.7777777777777778,
              "#fb9f3a"
             ],
             [
              0.8888888888888888,
              "#fdca26"
             ],
             [
              1,
              "#f0f921"
             ]
            ],
            "type": "heatmapgl"
           }
          ],
          "histogram": [
           {
            "marker": {
             "pattern": {
              "fillmode": "overlay",
              "size": 10,
              "solidity": 0.2
             }
            },
            "type": "histogram"
           }
          ],
          "histogram2d": [
           {
            "colorbar": {
             "outlinewidth": 0,
             "ticks": ""
            },
            "colorscale": [
             [
              0,
              "#0d0887"
             ],
             [
              0.1111111111111111,
              "#46039f"
             ],
             [
              0.2222222222222222,
              "#7201a8"
             ],
             [
              0.3333333333333333,
              "#9c179e"
             ],
             [
              0.4444444444444444,
              "#bd3786"
             ],
             [
              0.5555555555555556,
              "#d8576b"
             ],
             [
              0.6666666666666666,
              "#ed7953"
             ],
             [
              0.7777777777777778,
              "#fb9f3a"
             ],
             [
              0.8888888888888888,
              "#fdca26"
             ],
             [
              1,
              "#f0f921"
             ]
            ],
            "type": "histogram2d"
           }
          ],
          "histogram2dcontour": [
           {
            "colorbar": {
             "outlinewidth": 0,
             "ticks": ""
            },
            "colorscale": [
             [
              0,
              "#0d0887"
             ],
             [
              0.1111111111111111,
              "#46039f"
             ],
             [
              0.2222222222222222,
              "#7201a8"
             ],
             [
              0.3333333333333333,
              "#9c179e"
             ],
             [
              0.4444444444444444,
              "#bd3786"
             ],
             [
              0.5555555555555556,
              "#d8576b"
             ],
             [
              0.6666666666666666,
              "#ed7953"
             ],
             [
              0.7777777777777778,
              "#fb9f3a"
             ],
             [
              0.8888888888888888,
              "#fdca26"
             ],
             [
              1,
              "#f0f921"
             ]
            ],
            "type": "histogram2dcontour"
           }
          ],
          "mesh3d": [
           {
            "colorbar": {
             "outlinewidth": 0,
             "ticks": ""
            },
            "type": "mesh3d"
           }
          ],
          "parcoords": [
           {
            "line": {
             "colorbar": {
              "outlinewidth": 0,
              "ticks": ""
             }
            },
            "type": "parcoords"
           }
          ],
          "pie": [
           {
            "automargin": true,
            "type": "pie"
           }
          ],
          "scatter": [
           {
            "marker": {
             "line": {
              "color": "#283442"
             }
            },
            "type": "scatter"
           }
          ],
          "scatter3d": [
           {
            "line": {
             "colorbar": {
              "outlinewidth": 0,
              "ticks": ""
             }
            },
            "marker": {
             "colorbar": {
              "outlinewidth": 0,
              "ticks": ""
             }
            },
            "type": "scatter3d"
           }
          ],
          "scattercarpet": [
           {
            "marker": {
             "colorbar": {
              "outlinewidth": 0,
              "ticks": ""
             }
            },
            "type": "scattercarpet"
           }
          ],
          "scattergeo": [
           {
            "marker": {
             "colorbar": {
              "outlinewidth": 0,
              "ticks": ""
             }
            },
            "type": "scattergeo"
           }
          ],
          "scattergl": [
           {
            "marker": {
             "line": {
              "color": "#283442"
             }
            },
            "type": "scattergl"
           }
          ],
          "scattermapbox": [
           {
            "marker": {
             "colorbar": {
              "outlinewidth": 0,
              "ticks": ""
             }
            },
            "type": "scattermapbox"
           }
          ],
          "scatterpolar": [
           {
            "marker": {
             "colorbar": {
              "outlinewidth": 0,
              "ticks": ""
             }
            },
            "type": "scatterpolar"
           }
          ],
          "scatterpolargl": [
           {
            "marker": {
             "colorbar": {
              "outlinewidth": 0,
              "ticks": ""
             }
            },
            "type": "scatterpolargl"
           }
          ],
          "scatterternary": [
           {
            "marker": {
             "colorbar": {
              "outlinewidth": 0,
              "ticks": ""
             }
            },
            "type": "scatterternary"
           }
          ],
          "surface": [
           {
            "colorbar": {
             "outlinewidth": 0,
             "ticks": ""
            },
            "colorscale": [
             [
              0,
              "#0d0887"
             ],
             [
              0.1111111111111111,
              "#46039f"
             ],
             [
              0.2222222222222222,
              "#7201a8"
             ],
             [
              0.3333333333333333,
              "#9c179e"
             ],
             [
              0.4444444444444444,
              "#bd3786"
             ],
             [
              0.5555555555555556,
              "#d8576b"
             ],
             [
              0.6666666666666666,
              "#ed7953"
             ],
             [
              0.7777777777777778,
              "#fb9f3a"
             ],
             [
              0.8888888888888888,
              "#fdca26"
             ],
             [
              1,
              "#f0f921"
             ]
            ],
            "type": "surface"
           }
          ],
          "table": [
           {
            "cells": {
             "fill": {
              "color": "#506784"
             },
             "line": {
              "color": "rgb(17,17,17)"
             }
            },
            "header": {
             "fill": {
              "color": "#2a3f5f"
             },
             "line": {
              "color": "rgb(17,17,17)"
             }
            },
            "type": "table"
           }
          ]
         },
         "layout": {
          "annotationdefaults": {
           "arrowcolor": "#f2f5fa",
           "arrowhead": 0,
           "arrowwidth": 1
          },
          "autotypenumbers": "strict",
          "coloraxis": {
           "colorbar": {
            "outlinewidth": 0,
            "ticks": ""
           }
          },
          "colorscale": {
           "diverging": [
            [
             0,
             "#8e0152"
            ],
            [
             0.1,
             "#c51b7d"
            ],
            [
             0.2,
             "#de77ae"
            ],
            [
             0.3,
             "#f1b6da"
            ],
            [
             0.4,
             "#fde0ef"
            ],
            [
             0.5,
             "#f7f7f7"
            ],
            [
             0.6,
             "#e6f5d0"
            ],
            [
             0.7,
             "#b8e186"
            ],
            [
             0.8,
             "#7fbc41"
            ],
            [
             0.9,
             "#4d9221"
            ],
            [
             1,
             "#276419"
            ]
           ],
           "sequential": [
            [
             0,
             "#0d0887"
            ],
            [
             0.1111111111111111,
             "#46039f"
            ],
            [
             0.2222222222222222,
             "#7201a8"
            ],
            [
             0.3333333333333333,
             "#9c179e"
            ],
            [
             0.4444444444444444,
             "#bd3786"
            ],
            [
             0.5555555555555556,
             "#d8576b"
            ],
            [
             0.6666666666666666,
             "#ed7953"
            ],
            [
             0.7777777777777778,
             "#fb9f3a"
            ],
            [
             0.8888888888888888,
             "#fdca26"
            ],
            [
             1,
             "#f0f921"
            ]
           ],
           "sequentialminus": [
            [
             0,
             "#0d0887"
            ],
            [
             0.1111111111111111,
             "#46039f"
            ],
            [
             0.2222222222222222,
             "#7201a8"
            ],
            [
             0.3333333333333333,
             "#9c179e"
            ],
            [
             0.4444444444444444,
             "#bd3786"
            ],
            [
             0.5555555555555556,
             "#d8576b"
            ],
            [
             0.6666666666666666,
             "#ed7953"
            ],
            [
             0.7777777777777778,
             "#fb9f3a"
            ],
            [
             0.8888888888888888,
             "#fdca26"
            ],
            [
             1,
             "#f0f921"
            ]
           ]
          },
          "colorway": [
           "#636efa",
           "#EF553B",
           "#00cc96",
           "#ab63fa",
           "#FFA15A",
           "#19d3f3",
           "#FF6692",
           "#B6E880",
           "#FF97FF",
           "#FECB52"
          ],
          "font": {
           "color": "#f2f5fa"
          },
          "geo": {
           "bgcolor": "rgb(17,17,17)",
           "lakecolor": "rgb(17,17,17)",
           "landcolor": "rgb(17,17,17)",
           "showlakes": true,
           "showland": true,
           "subunitcolor": "#506784"
          },
          "hoverlabel": {
           "align": "left"
          },
          "hovermode": "closest",
          "mapbox": {
           "style": "dark"
          },
          "paper_bgcolor": "rgb(17,17,17)",
          "plot_bgcolor": "rgb(17,17,17)",
          "polar": {
           "angularaxis": {
            "gridcolor": "#506784",
            "linecolor": "#506784",
            "ticks": ""
           },
           "bgcolor": "rgb(17,17,17)",
           "radialaxis": {
            "gridcolor": "#506784",
            "linecolor": "#506784",
            "ticks": ""
           }
          },
          "scene": {
           "xaxis": {
            "backgroundcolor": "rgb(17,17,17)",
            "gridcolor": "#506784",
            "gridwidth": 2,
            "linecolor": "#506784",
            "showbackground": true,
            "ticks": "",
            "zerolinecolor": "#C8D4E3"
           },
           "yaxis": {
            "backgroundcolor": "rgb(17,17,17)",
            "gridcolor": "#506784",
            "gridwidth": 2,
            "linecolor": "#506784",
            "showbackground": true,
            "ticks": "",
            "zerolinecolor": "#C8D4E3"
           },
           "zaxis": {
            "backgroundcolor": "rgb(17,17,17)",
            "gridcolor": "#506784",
            "gridwidth": 2,
            "linecolor": "#506784",
            "showbackground": true,
            "ticks": "",
            "zerolinecolor": "#C8D4E3"
           }
          },
          "shapedefaults": {
           "line": {
            "color": "#f2f5fa"
           }
          },
          "sliderdefaults": {
           "bgcolor": "#C8D4E3",
           "bordercolor": "rgb(17,17,17)",
           "borderwidth": 1,
           "tickwidth": 0
          },
          "ternary": {
           "aaxis": {
            "gridcolor": "#506784",
            "linecolor": "#506784",
            "ticks": ""
           },
           "baxis": {
            "gridcolor": "#506784",
            "linecolor": "#506784",
            "ticks": ""
           },
           "bgcolor": "rgb(17,17,17)",
           "caxis": {
            "gridcolor": "#506784",
            "linecolor": "#506784",
            "ticks": ""
           }
          },
          "title": {
           "x": 0.05
          },
          "updatemenudefaults": {
           "bgcolor": "#506784",
           "borderwidth": 0
          },
          "xaxis": {
           "automargin": true,
           "gridcolor": "#283442",
           "linecolor": "#506784",
           "ticks": "",
           "title": {
            "standoff": 15
           },
           "zerolinecolor": "#283442",
           "zerolinewidth": 2
          },
          "yaxis": {
           "automargin": true,
           "gridcolor": "#283442",
           "linecolor": "#506784",
           "ticks": "",
           "title": {
            "standoff": 15
           },
           "zerolinecolor": "#283442",
           "zerolinewidth": 2
          }
         }
        },
        "title": {
         "text": "most countries played matches away"
        },
        "xaxis": {
         "anchor": "y",
         "categoryarray": [
          "NED",
          "IRE",
          "ENG",
          "ZIM",
          "SL",
          "PAK",
          "SA",
          "AUS",
          "BAN",
          "INDIA",
          "NAM",
          "NZ",
          "AFG",
          "WI",
          "UAE"
         ],
         "categoryorder": "array",
         "domain": [
          0,
          1
         ],
         "title": {
          "text": "index"
         }
        },
        "yaxis": {
         "anchor": "x",
         "domain": [
          0,
          1
         ],
         "title": {
          "text": "number of matches in away"
         }
        }
       }
      }
     },
     "metadata": {},
     "output_type": "display_data"
    }
   ],
   "source": [
    "away_teams = df['away_team'].value_counts()\n",
    "fig = px.bar(away_teams,\n",
    "            template='plotly_dark',\n",
    "            title = 'most countries played matches away',\n",
    "            color = away_teams.index,\n",
    "             text_auto=True,\n",
    "             y=away_teams.values,\n",
    "             x=away_teams.index,\n",
    "             labels={'y':'number of matches in away'}\n",
    "            )\n",
    "fig.show()"
   ]
  },
  {
   "cell_type": "code",
   "execution_count": 9,
   "metadata": {
    "metadata": {}
   },
   "outputs": [
    {
     "data": {
      "application/vnd.plotly.v1+json": {
       "config": {
        "plotlyServerURL": "https://plot.ly"
       },
       "data": [
        {
         "alignmentgroup": "True",
         "hovertemplate": "index=%{x}<br>number of matches in home=%{y}<extra></extra>",
         "legendgroup": "INDIA",
         "marker": {
          "color": "#636efa",
          "pattern": {
           "shape": ""
          }
         },
         "name": "INDIA",
         "offsetgroup": "INDIA",
         "orientation": "v",
         "showlegend": true,
         "textposition": "auto",
         "texttemplate": "%{y}",
         "type": "bar",
         "x": [
          "INDIA"
         ],
         "xaxis": "x",
         "y": [
          1167
         ],
         "yaxis": "y"
        },
        {
         "alignmentgroup": "True",
         "hovertemplate": "index=%{x}<br>number of matches in home=%{y}<extra></extra>",
         "legendgroup": "NZ",
         "marker": {
          "color": "#EF553B",
          "pattern": {
           "shape": ""
          }
         },
         "name": "NZ",
         "offsetgroup": "NZ",
         "orientation": "v",
         "showlegend": true,
         "textposition": "auto",
         "texttemplate": "%{y}",
         "type": "bar",
         "x": [
          "NZ"
         ],
         "xaxis": "x",
         "y": [
          961
         ],
         "yaxis": "y"
        },
        {
         "alignmentgroup": "True",
         "hovertemplate": "index=%{x}<br>number of matches in home=%{y}<extra></extra>",
         "legendgroup": "SL",
         "marker": {
          "color": "#00cc96",
          "pattern": {
           "shape": ""
          }
         },
         "name": "SL",
         "offsetgroup": "SL",
         "orientation": "v",
         "showlegend": true,
         "textposition": "auto",
         "texttemplate": "%{y}",
         "type": "bar",
         "x": [
          "SL"
         ],
         "xaxis": "x",
         "y": [
          946
         ],
         "yaxis": "y"
        },
        {
         "alignmentgroup": "True",
         "hovertemplate": "index=%{x}<br>number of matches in home=%{y}<extra></extra>",
         "legendgroup": "ZIM",
         "marker": {
          "color": "#ab63fa",
          "pattern": {
           "shape": ""
          }
         },
         "name": "ZIM",
         "offsetgroup": "ZIM",
         "orientation": "v",
         "showlegend": true,
         "textposition": "auto",
         "texttemplate": "%{y}",
         "type": "bar",
         "x": [
          "ZIM"
         ],
         "xaxis": "x",
         "y": [
          812
         ],
         "yaxis": "y"
        },
        {
         "alignmentgroup": "True",
         "hovertemplate": "index=%{x}<br>number of matches in home=%{y}<extra></extra>",
         "legendgroup": "BAN",
         "marker": {
          "color": "#FFA15A",
          "pattern": {
           "shape": ""
          }
         },
         "name": "BAN",
         "offsetgroup": "BAN",
         "orientation": "v",
         "showlegend": true,
         "textposition": "auto",
         "texttemplate": "%{y}",
         "type": "bar",
         "x": [
          "BAN"
         ],
         "xaxis": "x",
         "y": [
          732
         ],
         "yaxis": "y"
        },
        {
         "alignmentgroup": "True",
         "hovertemplate": "index=%{x}<br>number of matches in home=%{y}<extra></extra>",
         "legendgroup": "SCOT",
         "marker": {
          "color": "#19d3f3",
          "pattern": {
           "shape": ""
          }
         },
         "name": "SCOT",
         "offsetgroup": "SCOT",
         "orientation": "v",
         "showlegend": true,
         "textposition": "auto",
         "texttemplate": "%{y}",
         "type": "bar",
         "x": [
          "SCOT"
         ],
         "xaxis": "x",
         "y": [
          723
         ],
         "yaxis": "y"
        },
        {
         "alignmentgroup": "True",
         "hovertemplate": "index=%{x}<br>number of matches in home=%{y}<extra></extra>",
         "legendgroup": "PAK",
         "marker": {
          "color": "#FF6692",
          "pattern": {
           "shape": ""
          }
         },
         "name": "PAK",
         "offsetgroup": "PAK",
         "orientation": "v",
         "showlegend": true,
         "textposition": "auto",
         "texttemplate": "%{y}",
         "type": "bar",
         "x": [
          "PAK"
         ],
         "xaxis": "x",
         "y": [
          704
         ],
         "yaxis": "y"
        },
        {
         "alignmentgroup": "True",
         "hovertemplate": "index=%{x}<br>number of matches in home=%{y}<extra></extra>",
         "legendgroup": "UAE",
         "marker": {
          "color": "#B6E880",
          "pattern": {
           "shape": ""
          }
         },
         "name": "UAE",
         "offsetgroup": "UAE",
         "orientation": "v",
         "showlegend": true,
         "textposition": "auto",
         "texttemplate": "%{y}",
         "type": "bar",
         "x": [
          "UAE"
         ],
         "xaxis": "x",
         "y": [
          495
         ],
         "yaxis": "y"
        },
        {
         "alignmentgroup": "True",
         "hovertemplate": "index=%{x}<br>number of matches in home=%{y}<extra></extra>",
         "legendgroup": "NAM",
         "marker": {
          "color": "#FF97FF",
          "pattern": {
           "shape": ""
          }
         },
         "name": "NAM",
         "offsetgroup": "NAM",
         "orientation": "v",
         "showlegend": true,
         "textposition": "auto",
         "texttemplate": "%{y}",
         "type": "bar",
         "x": [
          "NAM"
         ],
         "xaxis": "x",
         "y": [
          485
         ],
         "yaxis": "y"
        },
        {
         "alignmentgroup": "True",
         "hovertemplate": "index=%{x}<br>number of matches in home=%{y}<extra></extra>",
         "legendgroup": "AUS",
         "marker": {
          "color": "#FECB52",
          "pattern": {
           "shape": ""
          }
         },
         "name": "AUS",
         "offsetgroup": "AUS",
         "orientation": "v",
         "showlegend": true,
         "textposition": "auto",
         "texttemplate": "%{y}",
         "type": "bar",
         "x": [
          "AUS"
         ],
         "xaxis": "x",
         "y": [
          483
         ],
         "yaxis": "y"
        },
        {
         "alignmentgroup": "True",
         "hovertemplate": "index=%{x}<br>number of matches in home=%{y}<extra></extra>",
         "legendgroup": "AFG",
         "marker": {
          "color": "#636efa",
          "pattern": {
           "shape": ""
          }
         },
         "name": "AFG",
         "offsetgroup": "AFG",
         "orientation": "v",
         "showlegend": true,
         "textposition": "auto",
         "texttemplate": "%{y}",
         "type": "bar",
         "x": [
          "AFG"
         ],
         "xaxis": "x",
         "y": [
          477
         ],
         "yaxis": "y"
        },
        {
         "alignmentgroup": "True",
         "hovertemplate": "index=%{x}<br>number of matches in home=%{y}<extra></extra>",
         "legendgroup": "WI",
         "marker": {
          "color": "#EF553B",
          "pattern": {
           "shape": ""
          }
         },
         "name": "WI",
         "offsetgroup": "WI",
         "orientation": "v",
         "showlegend": true,
         "textposition": "auto",
         "texttemplate": "%{y}",
         "type": "bar",
         "x": [
          "WI"
         ],
         "xaxis": "x",
         "y": [
          472
         ],
         "yaxis": "y"
        },
        {
         "alignmentgroup": "True",
         "hovertemplate": "index=%{x}<br>number of matches in home=%{y}<extra></extra>",
         "legendgroup": "NED",
         "marker": {
          "color": "#00cc96",
          "pattern": {
           "shape": ""
          }
         },
         "name": "NED",
         "offsetgroup": "NED",
         "orientation": "v",
         "showlegend": true,
         "textposition": "auto",
         "texttemplate": "%{y}",
         "type": "bar",
         "x": [
          "NED"
         ],
         "xaxis": "x",
         "y": [
          452
         ],
         "yaxis": "y"
        },
        {
         "alignmentgroup": "True",
         "hovertemplate": "index=%{x}<br>number of matches in home=%{y}<extra></extra>",
         "legendgroup": "IRE",
         "marker": {
          "color": "#ab63fa",
          "pattern": {
           "shape": ""
          }
         },
         "name": "IRE",
         "offsetgroup": "IRE",
         "orientation": "v",
         "showlegend": true,
         "textposition": "auto",
         "texttemplate": "%{y}",
         "type": "bar",
         "x": [
          "IRE"
         ],
         "xaxis": "x",
         "y": [
          431
         ],
         "yaxis": "y"
        },
        {
         "alignmentgroup": "True",
         "hovertemplate": "index=%{x}<br>number of matches in home=%{y}<extra></extra>",
         "legendgroup": "ENG",
         "marker": {
          "color": "#FFA15A",
          "pattern": {
           "shape": ""
          }
         },
         "name": "ENG",
         "offsetgroup": "ENG",
         "orientation": "v",
         "showlegend": true,
         "textposition": "auto",
         "texttemplate": "%{y}",
         "type": "bar",
         "x": [
          "ENG"
         ],
         "xaxis": "x",
         "y": [
          246
         ],
         "yaxis": "y"
        },
        {
         "alignmentgroup": "True",
         "hovertemplate": "index=%{x}<br>number of matches in home=%{y}<extra></extra>",
         "legendgroup": "SA",
         "marker": {
          "color": "#19d3f3",
          "pattern": {
           "shape": ""
          }
         },
         "name": "SA",
         "offsetgroup": "SA",
         "orientation": "v",
         "showlegend": true,
         "textposition": "auto",
         "texttemplate": "%{y}",
         "type": "bar",
         "x": [
          "SA"
         ],
         "xaxis": "x",
         "y": [
          228
         ],
         "yaxis": "y"
        }
       ],
       "layout": {
        "barmode": "relative",
        "legend": {
         "title": {
          "text": "index"
         },
         "tracegroupgap": 0
        },
        "template": {
         "data": {
          "bar": [
           {
            "error_x": {
             "color": "#f2f5fa"
            },
            "error_y": {
             "color": "#f2f5fa"
            },
            "marker": {
             "line": {
              "color": "rgb(17,17,17)",
              "width": 0.5
             },
             "pattern": {
              "fillmode": "overlay",
              "size": 10,
              "solidity": 0.2
             }
            },
            "type": "bar"
           }
          ],
          "barpolar": [
           {
            "marker": {
             "line": {
              "color": "rgb(17,17,17)",
              "width": 0.5
             },
             "pattern": {
              "fillmode": "overlay",
              "size": 10,
              "solidity": 0.2
             }
            },
            "type": "barpolar"
           }
          ],
          "carpet": [
           {
            "aaxis": {
             "endlinecolor": "#A2B1C6",
             "gridcolor": "#506784",
             "linecolor": "#506784",
             "minorgridcolor": "#506784",
             "startlinecolor": "#A2B1C6"
            },
            "baxis": {
             "endlinecolor": "#A2B1C6",
             "gridcolor": "#506784",
             "linecolor": "#506784",
             "minorgridcolor": "#506784",
             "startlinecolor": "#A2B1C6"
            },
            "type": "carpet"
           }
          ],
          "choropleth": [
           {
            "colorbar": {
             "outlinewidth": 0,
             "ticks": ""
            },
            "type": "choropleth"
           }
          ],
          "contour": [
           {
            "colorbar": {
             "outlinewidth": 0,
             "ticks": ""
            },
            "colorscale": [
             [
              0,
              "#0d0887"
             ],
             [
              0.1111111111111111,
              "#46039f"
             ],
             [
              0.2222222222222222,
              "#7201a8"
             ],
             [
              0.3333333333333333,
              "#9c179e"
             ],
             [
              0.4444444444444444,
              "#bd3786"
             ],
             [
              0.5555555555555556,
              "#d8576b"
             ],
             [
              0.6666666666666666,
              "#ed7953"
             ],
             [
              0.7777777777777778,
              "#fb9f3a"
             ],
             [
              0.8888888888888888,
              "#fdca26"
             ],
             [
              1,
              "#f0f921"
             ]
            ],
            "type": "contour"
           }
          ],
          "contourcarpet": [
           {
            "colorbar": {
             "outlinewidth": 0,
             "ticks": ""
            },
            "type": "contourcarpet"
           }
          ],
          "heatmap": [
           {
            "colorbar": {
             "outlinewidth": 0,
             "ticks": ""
            },
            "colorscale": [
             [
              0,
              "#0d0887"
             ],
             [
              0.1111111111111111,
              "#46039f"
             ],
             [
              0.2222222222222222,
              "#7201a8"
             ],
             [
              0.3333333333333333,
              "#9c179e"
             ],
             [
              0.4444444444444444,
              "#bd3786"
             ],
             [
              0.5555555555555556,
              "#d8576b"
             ],
             [
              0.6666666666666666,
              "#ed7953"
             ],
             [
              0.7777777777777778,
              "#fb9f3a"
             ],
             [
              0.8888888888888888,
              "#fdca26"
             ],
             [
              1,
              "#f0f921"
             ]
            ],
            "type": "heatmap"
           }
          ],
          "heatmapgl": [
           {
            "colorbar": {
             "outlinewidth": 0,
             "ticks": ""
            },
            "colorscale": [
             [
              0,
              "#0d0887"
             ],
             [
              0.1111111111111111,
              "#46039f"
             ],
             [
              0.2222222222222222,
              "#7201a8"
             ],
             [
              0.3333333333333333,
              "#9c179e"
             ],
             [
              0.4444444444444444,
              "#bd3786"
             ],
             [
              0.5555555555555556,
              "#d8576b"
             ],
             [
              0.6666666666666666,
              "#ed7953"
             ],
             [
              0.7777777777777778,
              "#fb9f3a"
             ],
             [
              0.8888888888888888,
              "#fdca26"
             ],
             [
              1,
              "#f0f921"
             ]
            ],
            "type": "heatmapgl"
           }
          ],
          "histogram": [
           {
            "marker": {
             "pattern": {
              "fillmode": "overlay",
              "size": 10,
              "solidity": 0.2
             }
            },
            "type": "histogram"
           }
          ],
          "histogram2d": [
           {
            "colorbar": {
             "outlinewidth": 0,
             "ticks": ""
            },
            "colorscale": [
             [
              0,
              "#0d0887"
             ],
             [
              0.1111111111111111,
              "#46039f"
             ],
             [
              0.2222222222222222,
              "#7201a8"
             ],
             [
              0.3333333333333333,
              "#9c179e"
             ],
             [
              0.4444444444444444,
              "#bd3786"
             ],
             [
              0.5555555555555556,
              "#d8576b"
             ],
             [
              0.6666666666666666,
              "#ed7953"
             ],
             [
              0.7777777777777778,
              "#fb9f3a"
             ],
             [
              0.8888888888888888,
              "#fdca26"
             ],
             [
              1,
              "#f0f921"
             ]
            ],
            "type": "histogram2d"
           }
          ],
          "histogram2dcontour": [
           {
            "colorbar": {
             "outlinewidth": 0,
             "ticks": ""
            },
            "colorscale": [
             [
              0,
              "#0d0887"
             ],
             [
              0.1111111111111111,
              "#46039f"
             ],
             [
              0.2222222222222222,
              "#7201a8"
             ],
             [
              0.3333333333333333,
              "#9c179e"
             ],
             [
              0.4444444444444444,
              "#bd3786"
             ],
             [
              0.5555555555555556,
              "#d8576b"
             ],
             [
              0.6666666666666666,
              "#ed7953"
             ],
             [
              0.7777777777777778,
              "#fb9f3a"
             ],
             [
              0.8888888888888888,
              "#fdca26"
             ],
             [
              1,
              "#f0f921"
             ]
            ],
            "type": "histogram2dcontour"
           }
          ],
          "mesh3d": [
           {
            "colorbar": {
             "outlinewidth": 0,
             "ticks": ""
            },
            "type": "mesh3d"
           }
          ],
          "parcoords": [
           {
            "line": {
             "colorbar": {
              "outlinewidth": 0,
              "ticks": ""
             }
            },
            "type": "parcoords"
           }
          ],
          "pie": [
           {
            "automargin": true,
            "type": "pie"
           }
          ],
          "scatter": [
           {
            "marker": {
             "line": {
              "color": "#283442"
             }
            },
            "type": "scatter"
           }
          ],
          "scatter3d": [
           {
            "line": {
             "colorbar": {
              "outlinewidth": 0,
              "ticks": ""
             }
            },
            "marker": {
             "colorbar": {
              "outlinewidth": 0,
              "ticks": ""
             }
            },
            "type": "scatter3d"
           }
          ],
          "scattercarpet": [
           {
            "marker": {
             "colorbar": {
              "outlinewidth": 0,
              "ticks": ""
             }
            },
            "type": "scattercarpet"
           }
          ],
          "scattergeo": [
           {
            "marker": {
             "colorbar": {
              "outlinewidth": 0,
              "ticks": ""
             }
            },
            "type": "scattergeo"
           }
          ],
          "scattergl": [
           {
            "marker": {
             "line": {
              "color": "#283442"
             }
            },
            "type": "scattergl"
           }
          ],
          "scattermapbox": [
           {
            "marker": {
             "colorbar": {
              "outlinewidth": 0,
              "ticks": ""
             }
            },
            "type": "scattermapbox"
           }
          ],
          "scatterpolar": [
           {
            "marker": {
             "colorbar": {
              "outlinewidth": 0,
              "ticks": ""
             }
            },
            "type": "scatterpolar"
           }
          ],
          "scatterpolargl": [
           {
            "marker": {
             "colorbar": {
              "outlinewidth": 0,
              "ticks": ""
             }
            },
            "type": "scatterpolargl"
           }
          ],
          "scatterternary": [
           {
            "marker": {
             "colorbar": {
              "outlinewidth": 0,
              "ticks": ""
             }
            },
            "type": "scatterternary"
           }
          ],
          "surface": [
           {
            "colorbar": {
             "outlinewidth": 0,
             "ticks": ""
            },
            "colorscale": [
             [
              0,
              "#0d0887"
             ],
             [
              0.1111111111111111,
              "#46039f"
             ],
             [
              0.2222222222222222,
              "#7201a8"
             ],
             [
              0.3333333333333333,
              "#9c179e"
             ],
             [
              0.4444444444444444,
              "#bd3786"
             ],
             [
              0.5555555555555556,
              "#d8576b"
             ],
             [
              0.6666666666666666,
              "#ed7953"
             ],
             [
              0.7777777777777778,
              "#fb9f3a"
             ],
             [
              0.8888888888888888,
              "#fdca26"
             ],
             [
              1,
              "#f0f921"
             ]
            ],
            "type": "surface"
           }
          ],
          "table": [
           {
            "cells": {
             "fill": {
              "color": "#506784"
             },
             "line": {
              "color": "rgb(17,17,17)"
             }
            },
            "header": {
             "fill": {
              "color": "#2a3f5f"
             },
             "line": {
              "color": "rgb(17,17,17)"
             }
            },
            "type": "table"
           }
          ]
         },
         "layout": {
          "annotationdefaults": {
           "arrowcolor": "#f2f5fa",
           "arrowhead": 0,
           "arrowwidth": 1
          },
          "autotypenumbers": "strict",
          "coloraxis": {
           "colorbar": {
            "outlinewidth": 0,
            "ticks": ""
           }
          },
          "colorscale": {
           "diverging": [
            [
             0,
             "#8e0152"
            ],
            [
             0.1,
             "#c51b7d"
            ],
            [
             0.2,
             "#de77ae"
            ],
            [
             0.3,
             "#f1b6da"
            ],
            [
             0.4,
             "#fde0ef"
            ],
            [
             0.5,
             "#f7f7f7"
            ],
            [
             0.6,
             "#e6f5d0"
            ],
            [
             0.7,
             "#b8e186"
            ],
            [
             0.8,
             "#7fbc41"
            ],
            [
             0.9,
             "#4d9221"
            ],
            [
             1,
             "#276419"
            ]
           ],
           "sequential": [
            [
             0,
             "#0d0887"
            ],
            [
             0.1111111111111111,
             "#46039f"
            ],
            [
             0.2222222222222222,
             "#7201a8"
            ],
            [
             0.3333333333333333,
             "#9c179e"
            ],
            [
             0.4444444444444444,
             "#bd3786"
            ],
            [
             0.5555555555555556,
             "#d8576b"
            ],
            [
             0.6666666666666666,
             "#ed7953"
            ],
            [
             0.7777777777777778,
             "#fb9f3a"
            ],
            [
             0.8888888888888888,
             "#fdca26"
            ],
            [
             1,
             "#f0f921"
            ]
           ],
           "sequentialminus": [
            [
             0,
             "#0d0887"
            ],
            [
             0.1111111111111111,
             "#46039f"
            ],
            [
             0.2222222222222222,
             "#7201a8"
            ],
            [
             0.3333333333333333,
             "#9c179e"
            ],
            [
             0.4444444444444444,
             "#bd3786"
            ],
            [
             0.5555555555555556,
             "#d8576b"
            ],
            [
             0.6666666666666666,
             "#ed7953"
            ],
            [
             0.7777777777777778,
             "#fb9f3a"
            ],
            [
             0.8888888888888888,
             "#fdca26"
            ],
            [
             1,
             "#f0f921"
            ]
           ]
          },
          "colorway": [
           "#636efa",
           "#EF553B",
           "#00cc96",
           "#ab63fa",
           "#FFA15A",
           "#19d3f3",
           "#FF6692",
           "#B6E880",
           "#FF97FF",
           "#FECB52"
          ],
          "font": {
           "color": "#f2f5fa"
          },
          "geo": {
           "bgcolor": "rgb(17,17,17)",
           "lakecolor": "rgb(17,17,17)",
           "landcolor": "rgb(17,17,17)",
           "showlakes": true,
           "showland": true,
           "subunitcolor": "#506784"
          },
          "hoverlabel": {
           "align": "left"
          },
          "hovermode": "closest",
          "mapbox": {
           "style": "dark"
          },
          "paper_bgcolor": "rgb(17,17,17)",
          "plot_bgcolor": "rgb(17,17,17)",
          "polar": {
           "angularaxis": {
            "gridcolor": "#506784",
            "linecolor": "#506784",
            "ticks": ""
           },
           "bgcolor": "rgb(17,17,17)",
           "radialaxis": {
            "gridcolor": "#506784",
            "linecolor": "#506784",
            "ticks": ""
           }
          },
          "scene": {
           "xaxis": {
            "backgroundcolor": "rgb(17,17,17)",
            "gridcolor": "#506784",
            "gridwidth": 2,
            "linecolor": "#506784",
            "showbackground": true,
            "ticks": "",
            "zerolinecolor": "#C8D4E3"
           },
           "yaxis": {
            "backgroundcolor": "rgb(17,17,17)",
            "gridcolor": "#506784",
            "gridwidth": 2,
            "linecolor": "#506784",
            "showbackground": true,
            "ticks": "",
            "zerolinecolor": "#C8D4E3"
           },
           "zaxis": {
            "backgroundcolor": "rgb(17,17,17)",
            "gridcolor": "#506784",
            "gridwidth": 2,
            "linecolor": "#506784",
            "showbackground": true,
            "ticks": "",
            "zerolinecolor": "#C8D4E3"
           }
          },
          "shapedefaults": {
           "line": {
            "color": "#f2f5fa"
           }
          },
          "sliderdefaults": {
           "bgcolor": "#C8D4E3",
           "bordercolor": "rgb(17,17,17)",
           "borderwidth": 1,
           "tickwidth": 0
          },
          "ternary": {
           "aaxis": {
            "gridcolor": "#506784",
            "linecolor": "#506784",
            "ticks": ""
           },
           "baxis": {
            "gridcolor": "#506784",
            "linecolor": "#506784",
            "ticks": ""
           },
           "bgcolor": "rgb(17,17,17)",
           "caxis": {
            "gridcolor": "#506784",
            "linecolor": "#506784",
            "ticks": ""
           }
          },
          "title": {
           "x": 0.05
          },
          "updatemenudefaults": {
           "bgcolor": "#506784",
           "borderwidth": 0
          },
          "xaxis": {
           "automargin": true,
           "gridcolor": "#283442",
           "linecolor": "#506784",
           "ticks": "",
           "title": {
            "standoff": 15
           },
           "zerolinecolor": "#283442",
           "zerolinewidth": 2
          },
          "yaxis": {
           "automargin": true,
           "gridcolor": "#283442",
           "linecolor": "#506784",
           "ticks": "",
           "title": {
            "standoff": 15
           },
           "zerolinecolor": "#283442",
           "zerolinewidth": 2
          }
         }
        },
        "title": {
         "text": "most countries played matches home"
        },
        "xaxis": {
         "anchor": "y",
         "categoryarray": [
          "INDIA",
          "NZ",
          "SL",
          "ZIM",
          "BAN",
          "SCOT",
          "PAK",
          "UAE",
          "NAM",
          "AUS",
          "AFG",
          "WI",
          "NED",
          "IRE",
          "ENG",
          "SA"
         ],
         "categoryorder": "array",
         "domain": [
          0,
          1
         ],
         "title": {
          "text": "index"
         }
        },
        "yaxis": {
         "anchor": "x",
         "domain": [
          0,
          1
         ],
         "title": {
          "text": "number of matches in home"
         }
        }
       }
      }
     },
     "metadata": {},
     "output_type": "display_data"
    }
   ],
   "source": [
    "home_teams = df['home_team'].value_counts()\n",
    "fig = px.bar(home_teams,\n",
    "            template='plotly_dark',\n",
    "            title = 'most countries played matches home',\n",
    "            color = home_teams.index,\n",
    "             text_auto=True,\n",
    "             y=home_teams.values,\n",
    "             x=home_teams.index,\n",
    "             labels={'y':'number of matches in home'}\n",
    "            )\n",
    "fig.show()"
   ]
  },
  {
   "cell_type": "markdown",
   "metadata": {},
   "source": [
    "### Most winning country in home"
   ]
  },
  {
   "cell_type": "code",
   "execution_count": 10,
   "metadata": {
    "metadata": {}
   },
   "outputs": [
    {
     "data": {
      "text/plain": [
       "home_team  current_innings\n",
       "AFG        AFG                246\n",
       "           ENG                116\n",
       "           SL                 115\n",
       "AUS        AUS                246\n",
       "           AFG                123\n",
       "           IRE                114\n",
       "BAN        BAN                370\n",
       "           NED                125\n",
       "           ZIM                124\n",
       "           PAK                113\n",
       "ENG        NZ                 124\n",
       "           ENG                122\n",
       "INDIA      INDIA              617\n",
       "           NED                124\n",
       "           SA                 119\n",
       "           ZIM                111\n",
       "           ENG                 99\n",
       "           BAN                 97\n",
       "IRE        IRE                241\n",
       "           ENG                 97\n",
       "           SL                  93\n",
       "NAM        NAM                249\n",
       "           NED                120\n",
       "           SL                 116\n",
       "NED        NED                244\n",
       "           SA                 125\n",
       "           PAK                 83\n",
       "NZ         NZ                 495\n",
       "           SL                 122\n",
       "           IRE                121\n",
       "           PAK                118\n",
       "           AUS                105\n",
       "PAK        PAK                375\n",
       "           INDIA              125\n",
       "           ENG                118\n",
       "           SA                  86\n",
       "SA         SA                 125\n",
       "           BAN                103\n",
       "SCOT       SCOT               375\n",
       "           IRE                119\n",
       "           WI                 116\n",
       "           ZIM                113\n",
       "SL         SL                 490\n",
       "           NED                125\n",
       "           ENG                122\n",
       "           UAE                105\n",
       "           AUS                104\n",
       "UAE        UAE                250\n",
       "           NAM                125\n",
       "           NED                120\n",
       "WI         WI                 250\n",
       "           ZIM                115\n",
       "           IRE                107\n",
       "ZIM        ZIM                430\n",
       "           PAK                125\n",
       "           IRE                124\n",
       "           NED                113\n",
       "           SA                  20\n",
       "Name: current_innings, dtype: int64"
      ]
     },
     "execution_count": 10,
     "metadata": {},
     "output_type": "execute_result"
    }
   ],
   "source": [
    "most_winning_country_home= df.groupby('home_team')['current_innings'].value_counts()\n",
    "most_winning_country_home"
   ]
  },
  {
   "cell_type": "markdown",
   "metadata": {},
   "source": [
    "### As we see here the countries played macthes on its land are the most winning and that make sense"
   ]
  },
  {
   "cell_type": "code",
   "execution_count": 11,
   "metadata": {
    "metadata": {}
   },
   "outputs": [
    {
     "data": {
      "text/plain": [
       "away_team  current_innings\n",
       "AFG        AFG                123\n",
       "           AUS                121\n",
       "AUS        AUS                209\n",
       "           NZ                 125\n",
       "           SL                 125\n",
       "BAN        BAN                200\n",
       "           INDIA              125\n",
       "           SA                 125\n",
       "ENG        ENG                552\n",
       "           PAK                125\n",
       "           INDIA              123\n",
       "           SL                 122\n",
       "           AFG                121\n",
       "           IRE                120\n",
       "INDIA      INDIA              125\n",
       "           PAK                125\n",
       "IRE        IRE                585\n",
       "           AUS                125\n",
       "           NZ                 125\n",
       "           SCOT               125\n",
       "           WI                 125\n",
       "           ZIM                125\n",
       "NAM        NAM                125\n",
       "           UAE                125\n",
       "NED        NED                727\n",
       "           BAN                125\n",
       "           UAE                125\n",
       "           NAM                124\n",
       "           INDIA              123\n",
       "           ZIM                123\n",
       "           SL                 121\n",
       "NZ         NZ                 124\n",
       "           ENG                122\n",
       "PAK        PAK                439\n",
       "           ZIM                125\n",
       "           NED                122\n",
       "           BAN                121\n",
       "           NZ                 120\n",
       "SA         SA                 350\n",
       "           PAK                125\n",
       "           NED                122\n",
       "           INDIA              121\n",
       "           ZIM                 57\n",
       "SL         SL                 446\n",
       "           AFG                125\n",
       "           NAM                125\n",
       "           NZ                 125\n",
       "           IRE                121\n",
       "UAE        SL                 122\n",
       "           UAE                105\n",
       "WI         SCOT               125\n",
       "           WI                 116\n",
       "ZIM        ZIM                463\n",
       "           INDIA              125\n",
       "           SCOT               125\n",
       "           WI                 125\n",
       "           BAN                124\n",
       "Name: current_innings, dtype: int64"
      ]
     },
     "execution_count": 11,
     "metadata": {},
     "output_type": "execute_result"
    }
   ],
   "source": [
    "most_winning_country_away= df.groupby('away_team')['current_innings'].value_counts(ascending= False)\n",
    "most_winning_country_away"
   ]
  },
  {
   "cell_type": "code",
   "execution_count": 12,
   "metadata": {
    "metadata": {}
   },
   "outputs": [
    {
     "data": {
      "text/plain": [
       "2     528\n",
       "1     526\n",
       "3     522\n",
       "4     516\n",
       "6     515\n",
       "5     514\n",
       "14    513\n",
       "8     512\n",
       "9     509\n",
       "7     508\n",
       "11    508\n",
       "13    506\n",
       "12    505\n",
       "10    503\n",
       "15    502\n",
       "16    488\n",
       "17    470\n",
       "18    447\n",
       "19    404\n",
       "20    318\n",
       "Name: over, dtype: int64"
      ]
     },
     "execution_count": 12,
     "metadata": {},
     "output_type": "execute_result"
    }
   ],
   "source": [
    "df['over'].value_counts().sort_values(ascending=False)"
   ]
  },
  {
   "cell_type": "code",
   "execution_count": 13,
   "metadata": {
    "metadata": {}
   },
   "outputs": [
    {
     "data": {
      "text/plain": [
       "1    1655\n",
       "2    1645\n",
       "3    1637\n",
       "4    1634\n",
       "5    1630\n",
       "6    1613\n",
       "Name: ball, dtype: int64"
      ]
     },
     "execution_count": 13,
     "metadata": {},
     "output_type": "execute_result"
    }
   ],
   "source": [
    "df['ball'].value_counts().sort_values(ascending= False)"
   ]
  },
  {
   "cell_type": "code",
   "execution_count": 14,
   "metadata": {
    "metadata": {}
   },
   "outputs": [
    {
     "data": {
      "text/plain": [
       "1    3923\n",
       "0    3614\n",
       "4     917\n",
       "2     902\n",
       "6     324\n",
       "3     111\n",
       "5      17\n",
       "7       6\n",
       "Name: runs, dtype: int64"
      ]
     },
     "execution_count": 14,
     "metadata": {},
     "output_type": "execute_result"
    }
   ],
   "source": [
    "df['runs'].value_counts().sort_values(ascending= False)"
   ]
  },
  {
   "cell_type": "code",
   "execution_count": 15,
   "metadata": {
    "metadata": {}
   },
   "outputs": [
    {
     "data": {
      "text/plain": [
       "True     4936\n",
       "False    4878\n",
       "Name: comparison, dtype: int64"
      ]
     },
     "execution_count": 15,
     "metadata": {},
     "output_type": "execute_result"
    }
   ],
   "source": [
    "df['comparison'] = df['batsman1_runs'] > df['bowler1_runs']\n",
    "df['comparison'].value_counts()"
   ]
  },
  {
   "cell_type": "markdown",
   "metadata": {},
   "source": [
    "### As we see here bowler runs and batsman runs are almost the same"
   ]
  },
  {
   "cell_type": "code",
   "execution_count": 16,
   "metadata": {
    "metadata": {}
   },
   "outputs": [
    {
     "data": {
      "text/plain": [
       "False    5689\n",
       "True     4125\n",
       "Name: comparison2, dtype: int64"
      ]
     },
     "execution_count": 16,
     "metadata": {},
     "output_type": "execute_result"
    }
   ],
   "source": [
    "df['comparison2'] = df['batsman2_runs'] > df['bowler2_runs']\n",
    "df['comparison2'].value_counts()"
   ]
  },
  {
   "cell_type": "markdown",
   "metadata": {},
   "source": [
    "### here the second bowler runs are higher than the second batsman"
   ]
  }
 ],
 "metadata": {
  "kernelspec": {
   "display_name": "base",
   "language": "python",
   "name": "python3"
  },
  "language_info": {
   "codemirror_mode": {
    "name": "ipython",
    "version": 3
   },
   "file_extension": ".py",
   "mimetype": "text/x-python",
   "name": "python",
   "nbconvert_exporter": "python",
   "pygments_lexer": "ipython3",
   "version": "3.10.9"
  }
 },
 "nbformat": 4,
 "nbformat_minor": 2
}
